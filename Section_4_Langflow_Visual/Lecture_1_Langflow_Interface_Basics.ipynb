{
 "cells": [
  {
   "cell_type": "markdown",
   "id": "1a9a0799",
   "metadata": {},
   "source": [
    "# 🎨 Lecture 1: Langflow Interface & Workflow Basics"
   ]
  },
  {
   "cell_type": "markdown",
   "id": "5821ac9f",
   "metadata": {},
   "source": [
    "In this notebook, we’ll guide you through the basics of Langflow —\n",
    "a visual drag-and-drop interface to create AI workflows without needing to code."
   ]
  },
  {
   "cell_type": "markdown",
   "id": "62a22226",
   "metadata": {},
   "source": [
    "## 🚀 Step 1: Run Langflow"
   ]
  },
  {
   "cell_type": "code",
   "execution_count": null,
   "id": "e46d9d97",
   "metadata": {},
   "outputs": [],
   "source": [
    "# Run this in your terminal (not inside notebook):\n",
    "# langflow run\n",
    "\n",
    "# Then open your browser and go to:\n",
    "# http://localhost:7860\n"
   ]
  },
  {
   "cell_type": "markdown",
   "id": "e54760dc",
   "metadata": {},
   "source": [
    "## 🧱 Step 2: Create Your First Visual Project\n",
    "Once Langflow is running, follow these steps:\n",
    "1. Click **New Project**\n",
    "2. Drag a **Prompt** block onto the canvas\n",
    "3. In the prompt, type: `Say hello to the user.`\n",
    "4. Drag a **Chat Output** block and connect it to the Prompt\n",
    "5. Click **Run** — you'll see 'Hello' appear in the output"
   ]
  },
  {
   "cell_type": "markdown",
   "id": "408481d1",
   "metadata": {},
   "source": [
    "## 🔍 Step 3: What Just Happened?\n",
    "Langflow automatically routes your prompt to GPT-4 using the default OpenAI integration.\n",
    "No code required — just building logic visually."
   ]
  }
 ],
 "metadata": {},
 "nbformat": 4,
 "nbformat_minor": 5
}
