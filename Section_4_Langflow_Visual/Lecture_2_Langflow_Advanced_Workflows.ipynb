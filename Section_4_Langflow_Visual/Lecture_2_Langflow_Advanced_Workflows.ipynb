{
 "cells": [
  {
   "cell_type": "markdown",
   "id": "80180345",
   "metadata": {},
   "source": [
    "# 🔧 Lecture 2: Creating Advanced Workflows in Langflow"
   ]
  },
  {
   "cell_type": "markdown",
   "id": "60987c8e",
   "metadata": {},
   "source": [
    "In this notebook, we guide you through building a more advanced visual agent in Langflow.\n",
    "You’ll add **Chat Input**, connect it to a Prompt and OpenAI block, and route the result to a Chat Output."
   ]
  },
  {
   "cell_type": "markdown",
   "id": "dff90fae",
   "metadata": {},
   "source": [
    "## 🚀 Step 1: Run Langflow"
   ]
  },
  {
   "cell_type": "code",
   "execution_count": null,
   "id": "005e6522",
   "metadata": {},
   "outputs": [],
   "source": [
    "# Run this in your terminal:\n",
    "# langflow run\n",
    "\n",
    "# Open your browser at:\n",
    "# http://localhost:7860\n"
   ]
  },
  {
   "cell_type": "markdown",
   "id": "8a062d73",
   "metadata": {},
   "source": [
    "## 🛠️ Step 2: Create an Interactive Q&A Agent\n",
    "Once Langflow is running:\n",
    "1. Start a **New Project**\n",
    "2. Drag a **Chat Input** block to the canvas\n",
    "3. Add a **Prompt** block and type: `Answer this question: {input}`\n",
    "4. Add an **OpenAI** block and paste your API key if required\n",
    "5. Drag a **Chat Output** block\n",
    "6. Connect Chat Input ➡ Prompt ➡ OpenAI ➡ Chat Output\n",
    "7. Click **Run**, then ask: `What is the tallest mountain in the world?`\n",
    "You should see: `Mount Everest`"
   ]
  },
  {
   "cell_type": "markdown",
   "id": "28ee9116",
   "metadata": {},
   "source": [
    "## 🧠 Step 3: Understand the Workflow\n",
    "This visual flow mimics a coded pipeline — it collects input, formats a prompt,\n",
    "runs it through GPT-4, and sends the response to the chat output.\n",
    "\n",
    "You now have a functioning input-to-response system — all built visually!"
   ]
  }
 ],
 "metadata": {},
 "nbformat": 4,
 "nbformat_minor": 5
}
