{
 "cells": [
  {
   "cell_type": "markdown",
   "id": "df41440b",
   "metadata": {},
   "source": [
    "# 📤 Lecture 3: Exporting Visual Workflows to Python Code"
   ]
  },
  {
   "cell_type": "markdown",
   "id": "fcedf754",
   "metadata": {},
   "source": [
    "In this notebook, you'll learn how to export your Langflow visual workflows to Python code,\n",
    "so you can customize, reuse, or deploy them beyond the Langflow UI."
   ]
  },
  {
   "cell_type": "markdown",
   "id": "76a270b9",
   "metadata": {},
   "source": [
    "## 📁 Step 1: Export JSON from Langflow"
   ]
  },
  {
   "cell_type": "markdown",
   "id": "313c2ce3",
   "metadata": {},
   "source": [
    "Once you've built your visual agent in Langflow:\n",
    "1. Click the **Export** button (top-right corner)\n",
    "2. Save the file as `myagent.json`\n",
    "This file contains all the logic of your visual workflow."
   ]
  },
  {
   "cell_type": "markdown",
   "id": "8c46e729",
   "metadata": {},
   "source": [
    "## 🧪 Step 2: Run the Exported Flow in Python"
   ]
  },
  {
   "cell_type": "code",
   "execution_count": null,
   "id": "eb1b4702",
   "metadata": {},
   "outputs": [],
   "source": [
    "from langflow import load_flow_from_json\n",
    "\n",
    "flow = load_flow_from_json(\"myagent.json\")\n",
    "\n",
    "# Run the flow (interactively)\n",
    "flow.run()"
   ]
  },
  {
   "cell_type": "markdown",
   "id": "cb5a27e3",
   "metadata": {},
   "source": [
    "## ✨ Step 3: Customize Your Workflow"
   ]
  },
  {
   "cell_type": "markdown",
   "id": "78886eef",
   "metadata": {},
   "source": [
    "Once exported to Python, you can:\n",
    "- Add custom logic or error handling\n",
    "- Integrate with APIs\n",
    "- Schedule tasks or deploy to servers"
   ]
  }
 ],
 "metadata": {},
 "nbformat": 4,
 "nbformat_minor": 5
}
