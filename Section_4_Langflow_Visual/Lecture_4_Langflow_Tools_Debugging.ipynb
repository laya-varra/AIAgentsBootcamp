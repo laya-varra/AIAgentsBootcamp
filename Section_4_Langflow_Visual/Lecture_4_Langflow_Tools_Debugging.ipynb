{
 "cells": [
  {
   "cell_type": "markdown",
   "id": "db713ec8",
   "metadata": {},
   "source": [
    "# 🛠️ Lecture 4: Enhancing Langflow Workflows with Tools and Debugging"
   ]
  },
  {
   "cell_type": "markdown",
   "id": "5cee595c",
   "metadata": {},
   "source": [
    "In this notebook, we'll enhance your Langflow agents by adding **external tools** (like weather APIs) and learn how to **debug workflows** for reliability."
   ]
  },
  {
   "cell_type": "markdown",
   "id": "fd49313e",
   "metadata": {},
   "source": [
    "## 🌦️ Step 1: Connect an External Tool – OpenWeatherMap"
   ]
  },
  {
   "cell_type": "markdown",
   "id": "e146bae0",
   "metadata": {},
   "source": [
    "**Before you start:**\n",
    "- Sign up at [openweathermap.org](https://openweathermap.org)\n",
    "- Generate a free API key\n",
    "- Save the key in your `.env` file as `OPENWEATHERMAP_API_KEY=your_key_here`\n",
    "\n",
    "**In Langflow:**\n",
    "1. Run `langflow run` and go to `http://localhost:7860`\n",
    "2. Open your project or start a new one\n",
    "3. Add blocks:\n",
    "   - `Chat Input`\n",
    "   - `Prompt`: `Get weather info for {input}`\n",
    "   - `Tool`: Select **OpenWeatherMap** and paste your API key\n",
    "   - `OpenAI`\n",
    "   - `Chat Output`\n",
    "4. Connect them in sequence and click **Run**\n",
    "\n",
    "Ask something like: `What’s the weather in London?`"
   ]
  },
  {
   "cell_type": "markdown",
   "id": "4ea7ea0b",
   "metadata": {},
   "source": [
    "## 🧰 Step 2: Debugging Workflow Errors"
   ]
  },
  {
   "cell_type": "markdown",
   "id": "f672d00c",
   "metadata": {},
   "source": [
    "**Common errors to check:**\n",
    "- Missing connections (blocks not wired correctly)\n",
    "- Empty fields in Prompt or Tool\n",
    "- API key errors (check your `.env` file)\n",
    "- Blocks not initialized properly (try restarting Langflow)\n",
    "\n",
    "Langflow also gives error messages in the interface — always check the terminal or browser console."
   ]
  },
  {
   "cell_type": "markdown",
   "id": "9801afae",
   "metadata": {},
   "source": [
    "## ✅ Step 3: Best Practices for Enhancements"
   ]
  },
  {
   "cell_type": "markdown",
   "id": "b19c6be3",
   "metadata": {},
   "source": [
    "- Keep blocks labeled clearly\n",
    "- Add descriptions to prompts to make workflows readable\n",
    "- Test with multiple inputs\n",
    "- Handle API failures gracefully in the Python export version"
   ]
  }
 ],
 "metadata": {},
 "nbformat": 4,
 "nbformat_minor": 5
}
