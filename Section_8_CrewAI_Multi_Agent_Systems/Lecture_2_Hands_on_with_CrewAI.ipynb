{
 "cells": [
  {
   "cell_type": "markdown",
   "id": "aa859f7f",
   "metadata": {},
   "source": [
    "\n",
    "# Section 7, Lecture 5: Hands-on CrewAI: Automate Customer Support with AI Agents\n",
    "\n",
    "Welcome to Lecture 5 of Section 7! In the last lecture, we introduced CrewAI and saw how it can help you build a team of AI agents to automate structured business tasks. Now, we’re getting hands-on. In this notebook, you’ll create your own CrewAI system to automate a real-world business task: handling customer support inquiries. By the end, you’ll have a working system that can save your support team hours of manual work, improve customer satisfaction, and boost productivity.\n",
    "\n",
    "### What You’ll Build\n",
    "- A CrewAI system with three agents:\n",
    "  - **Researcher Agent**: Investigates the customer’s issue (e.g., a delayed delivery).\n",
    "  - **Writer Agent**: Drafts a professional email response.\n",
    "  - **Editor Agent**: Reviews the response for accuracy and tone.\n",
    "- The agents will collaborate to automate a customer support query, producing a polished email response.\n",
    "\n",
    "### Why This Matters for Business\n",
    "Customer support inquiries can take hours of manual work—time your team could spend on other tasks. With CrewAI, you’ll automate these processes, ensuring faster responses, happier customers, and more time for your team to focus on high-value work.\n",
    "\n",
    "Let’s get started!\n"
   ]
  },
  {
   "cell_type": "markdown",
   "id": "0f6e75d5",
   "metadata": {},
   "source": [
    "\n",
    "## Step 1: Installing CrewAI\n",
    "\n",
    "In this cell, we’re checking if CrewAI is installed. If you see a version number, you’re good to go! If not, follow the instructions to install it using `uv pip install crewai crewai-tools` in your terminal. We’re using `uv` as our package manager, which we set up in Section 2, for faster and more reliable installations.\n"
   ]
  },
  {
   "cell_type": "code",
   "execution_count": 1,
   "id": "4d2fff4c",
   "metadata": {},
   "outputs": [
    {
     "name": "stdout",
     "output_type": "stream",
     "text": [
      "CrewAI is installed! Version: 0.102.0\n"
     ]
    }
   ],
   "source": [
    "\n",
    "# Step 1: Install CrewAI\n",
    "# If you haven’t installed CrewAI yet, run this in your terminal (not here):\n",
    "# uv pip install crewai crewai-tools\n",
    "# Make sure your virtual environment is activated:\n",
    "# Mac/Linux: source .venv/bin/activate\n",
    "# Windows: .venv\\Scripts\\Activate\n",
    "\n",
    "# Verify the installation\n",
    "try:\n",
    "    import crewai\n",
    "    print(\"CrewAI is installed! Version:\", crewai.__version__)\n",
    "except ImportError:\n",
    "    print(\"CrewAI not found. Please install it using the command above.\")\n"
   ]
  },
  {
   "cell_type": "markdown",
   "id": "11e41638",
   "metadata": {},
   "source": [
    "\n",
    "## Step 2: Loading the OpenAI API Key\n",
    "\n",
    "We’re loading your OpenAI API key from the `.env` file to use GPT-4 as the brain for our agents. If you see “API key loaded successfully!” you’re ready to proceed. If not, ensure your `.env` file has `OPENAI_API_KEY=your-key-here`. Never share your API key publicly!\n"
   ]
  },
  {
   "cell_type": "code",
   "execution_count": 2,
   "id": "e7fb0f35",
   "metadata": {},
   "outputs": [
    {
     "name": "stdout",
     "output_type": "stream",
     "text": [
      "API key loaded successfully!\n"
     ]
    }
   ],
   "source": [
    "\n",
    "# Step 2: Load your OpenAI API key\n",
    "from dotenv import load_dotenv\n",
    "import os\n",
    "\n",
    "# Load the .env file\n",
    "load_dotenv()\n",
    "\n",
    "# Get the API key\n",
    "openai_api_key = os.getenv(\"OPENAI_API_KEY\")\n",
    "\n",
    "# Verify the key\n",
    "if openai_api_key:\n",
    "    print(\"API key loaded successfully!\")\n",
    "else:\n",
    "    print(\"API key not found. Make sure your .env file has OPENAI_API_KEY set.\")\n"
   ]
  },
  {
   "cell_type": "markdown",
   "id": "f5df5d7f",
   "metadata": {},
   "source": [
    "\n",
    "## Step 3: Setting Up CrewAI Agents\n",
    "\n",
    "Here, we’re creating three agents:\n",
    "- **Researcher Agent**: Investigates the customer’s issue, with the goal of providing relevant details.\n",
    "- **Writer Agent**: Drafts a polite and professional response, focusing on clear communication.\n",
    "- **Editor Agent**: Reviews the response to ensure it’s accurate and polished.\n",
    "\n",
    "Each agent has a role, goal, and backstory to guide its behavior, and they’re all powered by GPT-4 using your API key. These agents will work together to handle a customer support query.\n"
   ]
  },
  {
   "cell_type": "code",
   "execution_count": 3,
   "id": "f62c7931",
   "metadata": {},
   "outputs": [
    {
     "name": "stdout",
     "output_type": "stream",
     "text": [
      "Agents created successfully!\n"
     ]
    }
   ],
   "source": [
    "\n",
    "# Step 3: Set up CrewAI agents\n",
    "from crewai import Agent\n",
    "from langchain_openai import ChatOpenAI\n",
    "\n",
    "# Initialize the LLM (GPT-4)\n",
    "llm = ChatOpenAI(\n",
    "    model=\"gpt-4\",\n",
    "    api_key=openai_api_key\n",
    ")\n",
    "\n",
    "# Define Agent 1: Researcher\n",
    "researcher = Agent(\n",
    "    role=\"Customer Support Researcher\",\n",
    "    goal=\"Research the customer’s issue and provide relevant details\",\n",
    "    backstory=\"You’re a detail-oriented support specialist who excels at finding information.\",\n",
    "    llm=llm,\n",
    "    verbose=True\n",
    ")\n",
    "\n",
    "# Define Agent 2: Writer\n",
    "writer = Agent(\n",
    "    role=\"Response Writer\",\n",
    "    goal=\"Draft a polite and professional response to the customer\",\n",
    "    backstory=\"You’re a skilled writer with a knack for clear, empathetic communication.\",\n",
    "    llm=llm,\n",
    "    verbose=True\n",
    ")\n",
    "\n",
    "# Define Agent 3: Editor\n",
    "editor = Agent(\n",
    "    role=\"Response Editor\",\n",
    "    goal=\"Review the response for clarity, accuracy, and tone\",\n",
    "    backstory=\"You’re a meticulous editor ensuring responses are professional and polished.\",\n",
    "    llm=llm,\n",
    "    verbose=True\n",
    ")\n",
    "\n",
    "print(\"Agents created successfully!\")\n"
   ]
  },
  {
   "cell_type": "markdown",
   "id": "cebdf661",
   "metadata": {},
   "source": [
    "\n",
    "## Step 4: Defining Tasks and Creating a Crew\n",
    "\n",
    "In this cell, we’re assigning tasks to each agent:\n",
    "- **Researcher Task**: Investigate a delayed delivery for order #12345 and summarize the cause.\n",
    "- **Writer Task**: Draft a professional email response based on the researcher’s summary.\n",
    "- **Editor Task**: Review the response for clarity, accuracy, and tone.\n",
    "\n",
    "We’re also creating a `Crew` object to manage the agents, ensuring they complete their tasks in sequence: research, then write, then edit. The `verbose=2` setting gives us detailed logs to see the process.\n"
   ]
  },
  {
   "cell_type": "code",
   "execution_count": 5,
   "id": "643dd92d",
   "metadata": {},
   "outputs": [
    {
     "name": "stdout",
     "output_type": "stream",
     "text": [
      "Tasks and crew set up successfully!\n"
     ]
    }
   ],
   "source": [
    "\n",
    "# Step 4: Define tasks for the agents\n",
    "from crewai import Task, Crew\n",
    "\n",
    "# Simulated customer issue\n",
    "customer_issue = \"A customer reported a delayed delivery for order #12345.\"\n",
    "\n",
    "# Define tasks\n",
    "research_task = Task(\n",
    "    description=f\"Investigate the following customer issue: {customer_issue}. Provide details on the cause of the delay.\",\n",
    "    expected_output=\"A summary of the issue with order #12345, including reasons for the delay.\",\n",
    "    agent=researcher\n",
    ")\n",
    "\n",
    "write_task = Task(\n",
    "    description=\"Using the researcher’s summary, draft a professional email response to the customer, apologizing for the delay and offering a solution.\",\n",
    "    expected_output=\"A polite email response to the customer.\",\n",
    "    agent=writer\n",
    ")\n",
    "\n",
    "edit_task = Task(\n",
    "    description=\"Review the writer’s email response for clarity, accuracy, and tone. Make improvements if needed.\",\n",
    "    expected_output=\"A final, polished email response.\",\n",
    "    agent=editor\n",
    ")\n",
    "\n",
    "# Create a Crew to manage the agents\n",
    "crew = Crew(\n",
    "    agents=[researcher, writer, editor],\n",
    "    tasks=[research_task, write_task, edit_task],\n",
    "    verbose=True\n",
    ")\n",
    "\n",
    "print(\"Tasks and crew set up successfully!\")\n"
   ]
  },
  {
   "cell_type": "markdown",
   "id": "08cd9da2",
   "metadata": {},
   "source": [
    "\n",
    "## Step 5: Running the Crew\n",
    "\n",
    "Here, we run the crew with `crew.kickoff()`. The agents collaborate:\n",
    "1. The **Researcher** investigates the delayed delivery.\n",
    "2. The **Writer** drafts a professional email.\n",
    "3. The **Editor** polishes the message.\n",
    "\n",
    "The final output is a professional email response, ready to send to the customer. This automation saves your team hours of manual work!\n"
   ]
  },
  {
   "cell_type": "code",
   "execution_count": 6,
   "id": "aa5b91d5",
   "metadata": {},
   "outputs": [
    {
     "name": "stdout",
     "output_type": "stream",
     "text": [
      "\u001b[1m\u001b[95m# Agent:\u001b[00m \u001b[1m\u001b[92mCustomer Support Researcher\u001b[00m\n",
      "\u001b[95m## Task:\u001b[00m \u001b[92mInvestigate the following customer issue: A customer reported a delayed delivery for order #12345.. Provide details on the cause of the delay.\u001b[00m\n",
      "\n",
      "\n",
      "\u001b[1m\u001b[95m# Agent:\u001b[00m \u001b[1m\u001b[92mCustomer Support Researcher\u001b[00m\n",
      "\u001b[95m## Final Answer:\u001b[00m \u001b[92m\n",
      "After investigating the issue, I found that order #12345 was delayed due to a combination of factors. The order was processed and dispatched from our warehouse on time. However, an issue arose with the courier service. They reported a mechanical problem with one of their delivery vehicles, which caused a backlog of deliveries for that day. This, coupled with adverse weather conditions on the proposed delivery date, contributed to the delay of order #12345. We didn't detect any system errors or issues on our end that would have contributed to this delay. The courier service has resolved their mechanical issue and the weather conditions have improved, so future deliveries should not be affected in the same way. We apologize for any inconvenience this delay may have caused.\u001b[00m\n",
      "\n",
      "\n",
      "\u001b[1m\u001b[95m# Agent:\u001b[00m \u001b[1m\u001b[92mResponse Writer\u001b[00m\n",
      "\u001b[95m## Task:\u001b[00m \u001b[92mUsing the researcher’s summary, draft a professional email response to the customer, apologizing for the delay and offering a solution.\u001b[00m\n",
      "\n",
      "\n",
      "\u001b[1m\u001b[95m# Agent:\u001b[00m \u001b[1m\u001b[92mResponse Writer\u001b[00m\n",
      "\u001b[95m## Final Answer:\u001b[00m \u001b[92m\n",
      "Subject: Apology and Update Regarding Your Order #12345\n",
      "\n",
      "Dear Customer,\n",
      "\n",
      "I hope this message finds you well. I'm writing to update you on the status of your order #12345 and to apologize for the delay in delivery that you've experienced.\n",
      "\n",
      "After a thorough investigation, it has become clear that the delay was caused by a combination of factors beyond our control. Your order was processed and dispatched from our warehouse promptly. However, unforeseen issues arose with the courier service we use for deliveries. They experienced a mechanical problem with one of their delivery vehicles which caused a backlog of deliveries for that day. This issue was unfortunately exacerbated by adverse weather conditions on the proposed delivery date.\n",
      "\n",
      "I want to assure you that there were no system errors or issues on our end that contributed to this delay. We take our commitment to timely deliveries very seriously and we understand the inconvenience such delays can cause.\n",
      "\n",
      "I am pleased to inform you that the courier service has now resolved their mechanical issue and the weather conditions have improved. This means that future deliveries should not be affected in the same manner.\n",
      "\n",
      "We apologize for any inconvenience this delay may have caused and thank you for your understanding and patience. If you have any further questions or concerns, please do not hesitate to contact us.\n",
      "\n",
      "Thank you for choosing our service. We look forward to serving you better in the future.\n",
      "\n",
      "Best regards,\n",
      "\n",
      "[Your Name]\n",
      "[Your Position]\u001b[00m\n",
      "\n",
      "\n",
      "\u001b[1m\u001b[95m# Agent:\u001b[00m \u001b[1m\u001b[92mResponse Editor\u001b[00m\n",
      "\u001b[95m## Task:\u001b[00m \u001b[92mReview the writer’s email response for clarity, accuracy, and tone. Make improvements if needed.\u001b[00m\n",
      "\n",
      "\n",
      "\u001b[1m\u001b[95m# Agent:\u001b[00m \u001b[1m\u001b[92mResponse Editor\u001b[00m\n",
      "\u001b[95m## Final Answer:\u001b[00m \u001b[92m\n",
      "Subject: Apology and Update Regarding Your Order #12345\n",
      "\n",
      "Dear Customer,\n",
      "\n",
      "I hope this message finds you well. I'm writing to update you on the status of your order #12345 and to apologize for the delay in delivery that you've experienced.\n",
      "\n",
      "After a thorough investigation, it has become clear that the delay was caused by a combination of factors beyond our control. Your order was processed and dispatched from our warehouse promptly. However, unforeseen issues arose with the courier service we use for deliveries. They experienced a mechanical problem with one of their delivery vehicles which caused a backlog of deliveries for that day. This issue was unfortunately exacerbated by adverse weather conditions on the proposed delivery date.\n",
      "\n",
      "I want to assure you that there were no system errors or issues on our end that contributed to this delay. We take our commitment to timely deliveries very seriously and we understand the inconvenience such delays can cause.\n",
      "\n",
      "I am pleased to inform you that the courier service has now resolved their mechanical issue and the weather conditions have improved. This means that future deliveries should not be affected in the same manner.\n",
      "\n",
      "We apologize for any inconvenience this delay may have caused and thank you for your understanding and patience. If you have any further questions or concerns, please do not hesitate to contact us.\n",
      "\n",
      "Thank you for choosing our service. We look forward to serving you better in the future.\n",
      "\n",
      "Best regards,\n",
      "\n",
      "[Your Name]\n",
      "[Your Position]\u001b[00m\n",
      "\n",
      "\n",
      "Final Output:\n",
      " Subject: Apology and Update Regarding Your Order #12345\n",
      "\n",
      "Dear Customer,\n",
      "\n",
      "I hope this message finds you well. I'm writing to update you on the status of your order #12345 and to apologize for the delay in delivery that you've experienced.\n",
      "\n",
      "After a thorough investigation, it has become clear that the delay was caused by a combination of factors beyond our control. Your order was processed and dispatched from our warehouse promptly. However, unforeseen issues arose with the courier service we use for deliveries. They experienced a mechanical problem with one of their delivery vehicles which caused a backlog of deliveries for that day. This issue was unfortunately exacerbated by adverse weather conditions on the proposed delivery date.\n",
      "\n",
      "I want to assure you that there were no system errors or issues on our end that contributed to this delay. We take our commitment to timely deliveries very seriously and we understand the inconvenience such delays can cause.\n",
      "\n",
      "I am pleased to inform you that the courier service has now resolved their mechanical issue and the weather conditions have improved. This means that future deliveries should not be affected in the same manner.\n",
      "\n",
      "We apologize for any inconvenience this delay may have caused and thank you for your understanding and patience. If you have any further questions or concerns, please do not hesitate to contact us.\n",
      "\n",
      "Thank you for choosing our service. We look forward to serving you better in the future.\n",
      "\n",
      "Best regards,\n",
      "\n",
      "[Your Name]\n",
      "[Your Position]\n"
     ]
    }
   ],
   "source": [
    "\n",
    "# Step 5: Run the crew to complete the tasks\n",
    "result = crew.kickoff()\n",
    "\n",
    "# Print the final output\n",
    "print(\"Final Output:\\n\", result)\n"
   ]
  },
  {
   "cell_type": "markdown",
   "id": "d657edb5",
   "metadata": {},
   "source": [
    "\n",
    "## Wrap-Up\n",
    "\n",
    "You’ve just built a CrewAI system to automate customer support! You:\n",
    "- Installed CrewAI and set it up\n",
    "- Created three agents: Researcher, Writer, and Editor\n",
    "- Made them collaborate to handle a customer inquiry\n",
    "\n",
    "This system can save your support team hours, ensuring faster responses and happier customers. In the next lecture, we’ll wrap up Section 7 with a capstone project where you’ll build a multi-agent system for business analysis.\n",
    "\n",
    "### Try It Out\n",
    "- Change the `customer_issue` to a different scenario, like “Customer received a defective product.” Run the notebook and share the final email in the Q&A—I’d love to see your results!\n"
   ]
  }
 ],
 "metadata": {
  "kernelspec": {
   "display_name": ".venv",
   "language": "python",
   "name": "python3"
  },
  "language_info": {
   "codemirror_mode": {
    "name": "ipython",
    "version": 3
   },
   "file_extension": ".py",
   "mimetype": "text/x-python",
   "name": "python",
   "nbconvert_exporter": "python",
   "pygments_lexer": "ipython3",
   "version": "3.11.9"
  }
 },
 "nbformat": 4,
 "nbformat_minor": 5
}
