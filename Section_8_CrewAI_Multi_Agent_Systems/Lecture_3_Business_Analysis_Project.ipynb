{
 "cells": [
  {
   "cell_type": "markdown",
   "id": "426cd5d4",
   "metadata": {},
   "source": [
    "# Section 7, Lecture 6: Project: Build a Multi-Agent System for Business Analysis\n",
    "\n",
    "Welcome to the final lecture of Section 7! You’ve learned about multi-agent systems, explored AutoGen, and got hands-on with CrewAI to automate customer support. Now, it’s time to put it all together in a capstone project. In this notebook, you’ll build a multi-agent system using CrewAI to analyze business data and generate a sales report—a real-world task that can save your team hours and help you make smarter decisions."
   ]
  },
  {
   "cell_type": "markdown",
   "id": "0784b59f",
   "metadata": {},
   "source": [
    "## Step 1: Installing CrewAI\n",
    "In this cell, we’re checking if CrewAI is installed. If you see a version number, you’re good to go! If not, follow the instructions to install it using `uv pip install crewai crewai-tools` in your terminal. We’re using `uv` as our package manager, which we set up in Section 2, for faster and more reliable installations."
   ]
  },
  {
   "cell_type": "code",
   "execution_count": 1,
   "id": "fe78f069",
   "metadata": {},
   "outputs": [
    {
     "name": "stdout",
     "output_type": "stream",
     "text": [
      "CrewAI is installed! Version: 0.102.0\n"
     ]
    }
   ],
   "source": [
    "# Step 1: Install CrewAI\n",
    "# If you haven’t installed CrewAI yet, run this in your terminal (not here):\n",
    "# uv pip install crewai crewai-tools\n",
    "# Mac/Linux: source .venv/bin/activate\n",
    "# Windows: .venv\\Scripts\\Activate\n",
    "try:\n",
    "    import crewai\n",
    "    print(\"CrewAI is installed! Version:\", crewai.__version__)\n",
    "except ImportError:\n",
    "    print(\"CrewAI not found. Please install it using the command above.\")"
   ]
  },
  {
   "cell_type": "markdown",
   "id": "026591c9",
   "metadata": {},
   "source": [
    "## Step 2: Loading the OpenAI API Key\n",
    "We’re loading your OpenAI API key from the `.env` file to use GPT-4 as the brain for our agents. If you see “API key loaded successfully!” you’re ready to proceed. If not, ensure your `.env` file has `OPENAI_API_KEY=your-key-here`. Never share your API key publicly!"
   ]
  },
  {
   "cell_type": "code",
   "execution_count": 2,
   "id": "e9c38476",
   "metadata": {},
   "outputs": [
    {
     "name": "stdout",
     "output_type": "stream",
     "text": [
      "API key loaded successfully!\n"
     ]
    }
   ],
   "source": [
    "# Step 2: Load your OpenAI API key\n",
    "from dotenv import load_dotenv\n",
    "import os\n",
    "\n",
    "load_dotenv()\n",
    "openai_api_key = os.getenv(\"OPENAI_API_KEY\")\n",
    "\n",
    "if openai_api_key:\n",
    "    print(\"API key loaded successfully!\")\n",
    "else:\n",
    "    print(\"API key not found. Make sure your .env file has OPENAI_API_KEY set.\")"
   ]
  },
  {
   "cell_type": "markdown",
   "id": "f8ee95f0",
   "metadata": {},
   "source": [
    "## Step 3: Setting Up CrewAI Agents\n",
    "We’re creating three agents:\n",
    "- **Data Collector Agent**: Gathers sales data.\n",
    "- **Analyst Agent**: Analyzes trends in the data.\n",
    "- **Report Writer Agent**: Writes the sales report.\n",
    "\n",
    "Each agent has a role, goal, and backstory, powered by GPT-4 using your API key."
   ]
  },
  {
   "cell_type": "code",
   "execution_count": 3,
   "id": "0c927556",
   "metadata": {},
   "outputs": [
    {
     "name": "stdout",
     "output_type": "stream",
     "text": [
      "Agents created successfully!\n"
     ]
    }
   ],
   "source": [
    "# Step 3: Set up CrewAI agents\n",
    "from crewai import Agent\n",
    "from langchain_openai import ChatOpenAI\n",
    "\n",
    "llm = ChatOpenAI(\n",
    "    model=\"gpt-4\",\n",
    "    api_key=openai_api_key\n",
    ")\n",
    "\n",
    "data_collector = Agent(\n",
    "    role=\"Data Collector\",\n",
    "    goal=\"Gather sales data for analysis\",\n",
    "    backstory=\"You’re an expert at collecting and organizing data for business insights.\",\n",
    "    llm=llm,\n",
    "    verbose=True\n",
    ")\n",
    "\n",
    "analyst = Agent(\n",
    "    role=\"Data Analyst\",\n",
    "    goal=\"Analyze sales data and identify key trends or issues\",\n",
    "    backstory=\"You’re a skilled analyst with a keen eye for trends and insights.\",\n",
    "    llm=llm,\n",
    "    verbose=True\n",
    ")\n",
    "\n",
    "report_writer = Agent(\n",
    "    role=\"Report Writer\",\n",
    "    goal=\"Write a clear and concise sales report with recommendations\",\n",
    "    backstory=\"You’re a talented writer who creates actionable business reports.\",\n",
    "    llm=llm,\n",
    "    verbose=True\n",
    ")\n",
    "print(\"Agents created successfully!\")"
   ]
  },
  {
   "cell_type": "markdown",
   "id": "ba9e477a",
   "metadata": {},
   "source": [
    "## Step 4: Defining Tasks and Creating a Crew\n",
    "Assigning structured tasks to each agent and creating a `Crew` object to manage the workflow."
   ]
  },
  {
   "cell_type": "code",
   "execution_count": 4,
   "id": "3533f203",
   "metadata": {},
   "outputs": [
    {
     "name": "stdout",
     "output_type": "stream",
     "text": [
      "Tasks and crew set up successfully!\n"
     ]
    }
   ],
   "source": [
    "# Step 4: Define tasks for the agents\n",
    "from crewai import Task, Crew\n",
    "\n",
    "sales_data = \"\"\"\n",
    "Q1 Sales: $50,000 (Electronics: $30,000, Clothing: $20,000)\n",
    "Q2 Sales: $45,000 (Electronics: $25,000, Clothing: $20,000)\n",
    "Overall trend: Electronics sales dropped by 16% from Q1 to Q2.\n",
    "\"\"\"\n",
    "\n",
    "collect_task = Task(\n",
    "    description=f\"Gather the following sales data: {sales_data}. Organize it for analysis.\",\n",
    "    expected_output=\"A structured summary of the sales data, ready for analysis.\",\n",
    "    agent=data_collector\n",
    ")\n",
    "\n",
    "analyze_task = Task(\n",
    "    description=\"Analyze the sales data provided by the data collector. Identify key trends and issues.\",\n",
    "    expected_output=\"A summary of sales trends and issues, e.g., 'Electronics sales dropped 16% from Q1 to Q2.'\",\n",
    "    agent=analyst\n",
    ")\n",
    "\n",
    "report_task = Task(\n",
    "    description=\"Using the analyst’s summary, write a concise sales report with recommendations for the business.\",\n",
    "    expected_output=\"A polished sales report with actionable recommendations.\",\n",
    "    agent=report_writer\n",
    ")\n",
    "\n",
    "crew = Crew(\n",
    "    agents=[data_collector, analyst, report_writer],\n",
    "    tasks=[collect_task, analyze_task, report_task],\n",
    "    verbose=True\n",
    ")\n",
    "print(\"Tasks and crew set up successfully!\")"
   ]
  },
  {
   "cell_type": "markdown",
   "id": "0f0a3bdf",
   "metadata": {},
   "source": [
    "## Step 5: Running the Crew\n",
    "Execute the multi-agent system and print the final sales report."
   ]
  },
  {
   "cell_type": "code",
   "execution_count": 5,
   "id": "33d796ed",
   "metadata": {},
   "outputs": [
    {
     "name": "stdout",
     "output_type": "stream",
     "text": [
      "\u001b[1m\u001b[95m# Agent:\u001b[00m \u001b[1m\u001b[92mData Collector\u001b[00m\n",
      "\u001b[95m## Task:\u001b[00m \u001b[92mGather the following sales data: \n",
      "Q1 Sales: $50,000 (Electronics: $30,000, Clothing: $20,000)\n",
      "Q2 Sales: $45,000 (Electronics: $25,000, Clothing: $20,000)\n",
      "Overall trend: Electronics sales dropped by 16% from Q1 to Q2.\n",
      ". Organize it for analysis.\u001b[00m\n",
      "\n",
      "\n",
      "\u001b[1m\u001b[95m# Agent:\u001b[00m \u001b[1m\u001b[92mData Collector\u001b[00m\n",
      "\u001b[95m## Final Answer:\u001b[00m \u001b[92m\n",
      "Sales Data Summary:\n",
      "\n",
      "- Q1 Total Sales: $50,000 \n",
      "    - Electronics: $30,000 \n",
      "    - Clothing: $20,000\n",
      "\n",
      "- Q2 Total Sales: $45,000 \n",
      "    - Electronics: $25,000 \n",
      "    - Clothing: $20,000\n",
      "\n",
      "- Overall Trend: Electronics sales dropped by 16% from Q1 to Q2. \n",
      "\n",
      "This data is now structured for further analysis.\u001b[00m\n",
      "\n",
      "\n",
      "\u001b[1m\u001b[95m# Agent:\u001b[00m \u001b[1m\u001b[92mData Analyst\u001b[00m\n",
      "\u001b[95m## Task:\u001b[00m \u001b[92mAnalyze the sales data provided by the data collector. Identify key trends and issues.\u001b[00m\n",
      "\n",
      "\n",
      "\u001b[1m\u001b[95m# Agent:\u001b[00m \u001b[1m\u001b[92mData Analyst\u001b[00m\n",
      "\u001b[95m## Final Answer:\u001b[00m \u001b[92m\n",
      "The overall sales decreased by 10% from Q1 to Q2, reducing from $50,000 to $45,000. This decrease in sales was mainly driven by a reduction in Electronics sales which dropped by 16% from $30,000 in Q1 to $25,000 in Q2. However, Clothing sales remained stable at $20,000 in both quarters. This data indicates that there may be issues in the Electronics sales sector that need to be addressed. The stability in Clothing sales suggests that this sector is performing consistently, but strategies for growth could be explored.\u001b[00m\n",
      "\n",
      "\n",
      "\u001b[1m\u001b[95m# Agent:\u001b[00m \u001b[1m\u001b[92mReport Writer\u001b[00m\n",
      "\u001b[95m## Task:\u001b[00m \u001b[92mUsing the analyst’s summary, write a concise sales report with recommendations for the business.\u001b[00m\n",
      "\n",
      "\n",
      "\u001b[1m\u001b[95m# Agent:\u001b[00m \u001b[1m\u001b[92mReport Writer\u001b[00m\n",
      "\u001b[95m## Final Answer:\u001b[00m \u001b[92m\n",
      "Sales Report and Recommendations\n",
      "\n",
      "In the 1st and 2nd quarters of this fiscal year, there was a noticeable downturn in our overall sales. Our total sales decreased by 10% from Q1 to Q2, dropping from $50,000 to $45,000. \n",
      "\n",
      "This decline was predominantly due to a decrease in Electronics sales, which plunged by 16% from $30,000 in Q1 to $25,000 in Q2. This downward trend indicates potential issues within the Electronics sector, requiring immediate attention. \n",
      "\n",
      "On a more positive note, our Clothing sector maintained steady sales of $20,000 in both quarters. While this consistency is encouraging, it also suggests there is room for expansion and growth in this sector. \n",
      "\n",
      "Recommendations:\n",
      "\n",
      "1. Conduct a thorough analysis of the Electronics sector to identify the causes for the sales drop. This could involve surveying customers, reviewing marketing strategies, and assessing competitor activity.\n",
      "\n",
      "2. Develop a robust sales strategy for the Electronics sector aimed at reversing the declining sales trend. This may include promotional campaigns, price adjustments, or product enhancements.\n",
      "\n",
      "3. Explore opportunities for growth in the Clothing sector. This could involve introducing new product lines, targeting new markets or demographics, or implementing creative marketing strategies.\n",
      "\n",
      "4. Monitor sales trends closely in both sectors and adjust strategies as needed to ensure continued growth and profitability.\n",
      "\n",
      "It's crucial that we take these steps to bolster our sales performance and secure the future success of our business.\u001b[00m\n",
      "\n",
      "\n",
      "Final Output:\n",
      " Sales Report and Recommendations\n",
      "\n",
      "In the 1st and 2nd quarters of this fiscal year, there was a noticeable downturn in our overall sales. Our total sales decreased by 10% from Q1 to Q2, dropping from $50,000 to $45,000. \n",
      "\n",
      "This decline was predominantly due to a decrease in Electronics sales, which plunged by 16% from $30,000 in Q1 to $25,000 in Q2. This downward trend indicates potential issues within the Electronics sector, requiring immediate attention. \n",
      "\n",
      "On a more positive note, our Clothing sector maintained steady sales of $20,000 in both quarters. While this consistency is encouraging, it also suggests there is room for expansion and growth in this sector. \n",
      "\n",
      "Recommendations:\n",
      "\n",
      "1. Conduct a thorough analysis of the Electronics sector to identify the causes for the sales drop. This could involve surveying customers, reviewing marketing strategies, and assessing competitor activity.\n",
      "\n",
      "2. Develop a robust sales strategy for the Electronics sector aimed at reversing the declining sales trend. This may include promotional campaigns, price adjustments, or product enhancements.\n",
      "\n",
      "3. Explore opportunities for growth in the Clothing sector. This could involve introducing new product lines, targeting new markets or demographics, or implementing creative marketing strategies.\n",
      "\n",
      "4. Monitor sales trends closely in both sectors and adjust strategies as needed to ensure continued growth and profitability.\n",
      "\n",
      "It's crucial that we take these steps to bolster our sales performance and secure the future success of our business.\n"
     ]
    }
   ],
   "source": [
    "# Step 5: Run the crew to complete the tasks\n",
    "result = crew.kickoff()\n",
    "\n",
    "print(\"Final Output:\\n\", result)"
   ]
  }
 ],
 "metadata": {
  "kernelspec": {
   "display_name": ".venv",
   "language": "python",
   "name": "python3"
  },
  "language_info": {
   "codemirror_mode": {
    "name": "ipython",
    "version": 3
   },
   "file_extension": ".py",
   "mimetype": "text/x-python",
   "name": "python",
   "nbconvert_exporter": "python",
   "pygments_lexer": "ipython3",
   "version": "3.11.9"
  }
 },
 "nbformat": 4,
 "nbformat_minor": 5
}
