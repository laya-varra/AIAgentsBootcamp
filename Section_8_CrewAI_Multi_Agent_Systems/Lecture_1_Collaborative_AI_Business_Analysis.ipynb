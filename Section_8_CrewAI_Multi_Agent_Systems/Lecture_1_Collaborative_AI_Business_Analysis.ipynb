{
    "cells": [
     {
      "cell_type": "markdown",
      "id": "acf9df58",
      "metadata": {},
      "source": [
       "# Lecture 4: Real-World Project – Collaborative AI Business Analysis using CrewAI"
      ]
     },
     {
      "cell_type": "markdown",
      "id": "c171197e",
      "metadata": {},
      "source": [
       "## 🧠 What You’ll Learn\n",
       "- How to simulate a real-world business use case using CrewAI\n",
       "- Define multiple agents with specific business functions\n",
       "- Assign business analysis tasks to your agent crew"
      ]
     },
     {
      "cell_type": "markdown",
      "id": "5cb84157",
      "metadata": {},
      "source": [
       "## ✅ Step 1: Install CrewAI using uv (if not done already)\n",
       "Run this in your terminal (outside notebook):"
      ]
     },
     {
      "cell_type": "code",
      "execution_count": null,
      "id": "5d7a0d58",
      "metadata": {},
      "outputs": [],
      "source": [
       "# uv pip install crewai"
      ]
     },
     {
      "cell_type": "markdown",
      "id": "375bc17b",
      "metadata": {},
      "source": [
       "## ✅ Step 2: Import required packages"
      ]
     },
     {
      "cell_type": "code",
      "execution_count": null,
      "id": "1946963c",
      "metadata": {},
      "outputs": [],
      "source": [
       "from crewai import Crew, Agent, Task\n",
       "import os\n",
       "from dotenv import load_dotenv"
      ]
     },
     {
      "cell_type": "markdown",
      "id": "1dac489a",
      "metadata": {},
      "source": [
       "## ✅ Step 3: Load your OpenAI API key"
      ]
     },
     {
      "cell_type": "code",
      "execution_count": null,
      "id": "6f472873",
      "metadata": {},
      "outputs": [],
      "source": [
       "load_dotenv()\n",
       "os.environ[\"OPENAI_API_KEY\"] = os.getenv(\"OPENAI_API_KEY\")"
      ]
     },
     {
      "cell_type": "markdown",
      "id": "c5863428",
      "metadata": {},
      "source": [
       "## ✅ Step 4: Define your real-world business agents"
      ]
     },
     {
      "cell_type": "code",
      "execution_count": null,
      "id": "157de66b",
      "metadata": {},
      "outputs": [],
      "source": [
       "market_researcher = Agent(\n",
       "    role=\"Market Researcher\",\n",
       "    goal=\"Analyze current trends in the AI agent market\",\n",
       "    backstory=\"You are a business intelligence agent focused on extracting market trends and competitive insights.\"\n",
       ")\n",
       "\n",
       "financial_analyst = Agent(\n",
       "    role=\"Financial Analyst\",\n",
       "    goal=\"Estimate the revenue potential based on market data\",\n",
       "    backstory=\"You are a strategic finance expert who evaluates growth opportunities.\"\n",
       ")\n",
       "\n",
       "product_manager = Agent(\n",
       "    role=\"Product Manager\",\n",
       "    goal=\"Summarize key takeaways and propose a go-to-market strategy\",\n",
       "    backstory=\"You synthesize findings into actionable product recommendations.\"\n",
       ")"
      ]
     },
     {
      "cell_type": "markdown",
      "id": "004760ce",
      "metadata": {},
      "source": [
       "## ✅ Step 5: Define the business analysis task"
      ]
     },
     {
      "cell_type": "code",
      "execution_count": null,
      "id": "3e3ed3fa",
      "metadata": {},
      "outputs": [],
      "source": [
       "business_analysis_task = Task(\n",
       "    description=\"Research trends in the AI agent market, estimate monetization potential, and draft a go-to-market plan.\"\n",
       ")"
      ]
     },
     {
      "cell_type": "markdown",
      "id": "c382d10e",
      "metadata": {},
      "source": [
       "## ✅ Step 6: Create the Crew and kick off the project"
      ]
     },
     {
      "cell_type": "code",
      "execution_count": null,
      "id": "ef83b937",
      "metadata": {},
      "outputs": [],
      "source": [
       "crew = Crew(\n",
       "    agents=[market_researcher, financial_analyst, product_manager],\n",
       "    tasks=[business_analysis_task],\n",
       "    verbose=True\n",
       ")\n",
       "\n",
       "result = crew.kickoff()\n",
       "\n",
       "print(\"\\n\\n✅ Final Business Report Output:\\n\")\n",
       "print(result)"
      ]
     },
     {
      "cell_type": "markdown",
      "id": "d67dc2da",
      "metadata": {},
      "source": [
       "## ✅ Summary\n",
       "- Built a realistic 3-agent team for business analysis\n",
       "- Each agent specialized in a business function\n",
       "- Agents collaborated to create an investor-ready business report"
      ]
     }
    ],
    "metadata": {},
    "nbformat": 4,
    "nbformat_minor": 5
   }