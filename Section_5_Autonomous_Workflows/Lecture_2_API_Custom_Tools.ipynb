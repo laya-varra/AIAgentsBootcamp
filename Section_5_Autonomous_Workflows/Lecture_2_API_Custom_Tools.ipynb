{
 "cells": [
  {
   "cell_type": "markdown",
   "id": "40cfed3e",
   "metadata": {},
   "source": [
    "# 🔌 Lecture 2: Integrating APIs and Custom Tools"
   ]
  },
  {
   "cell_type": "markdown",
   "id": "40572186",
   "metadata": {},
   "source": [
    "In this notebook, we'll enhance your autonomous agent by connecting it to **external APIs** and **custom tools**.\n",
    "\n",
    "We'll demonstrate how to use a mock weather tool to simulate real-time data integration in LangChain.\n",
    "*Note: For production scenarios, you’ll replace the mock tool with real APIs like OpenWeatherMap, Slack, etc.*"
   ]
  },
  {
   "cell_type": "markdown",
   "id": "b772b99d",
   "metadata": {},
   "source": [
    "## 🔧 Step 1: Initialize Environment and Language Model"
   ]
  },
  {
   "cell_type": "code",
   "execution_count": null,
   "id": "aec64cbc",
   "metadata": {},
   "outputs": [],
   "source": [
    "from langchain.chains import ConversationChain\n",
    "from langchain.llms import OpenAI\n",
    "from langchain.tools import tool\n",
    "from dotenv import load_dotenv\n",
    "import os\n",
    "\n",
    "# Load environment and initialize LLM\n",
    "load_dotenv()\n",
    "llm = OpenAI(api_key=os.getenv(\"OPENAI_API_KEY\"))"
   ]
  },
  {
   "cell_type": "markdown",
   "id": "ebd14e26",
   "metadata": {},
   "source": [
    "## 🌦️ Step 2: Define a Custom Tool (Mock Weather API)"
   ]
  },
  {
   "cell_type": "code",
   "execution_count": null,
   "id": "d6fb05f3",
   "metadata": {},
   "outputs": [],
   "source": [
    "@tool\n",
    "def get_weather(city: str) -> str:\n",
    "    if city.lower() == \"london\":\n",
    "        return \"It’s 18°C and sunny in London.\"\n",
    "    else:\n",
    "        return f\"Sorry, I don’t have weather data for {city}.\""
   ]
  },
  {
   "cell_type": "markdown",
   "id": "8124a99d",
   "metadata": {},
   "source": [
    "## 🤖 Step 3: Create Conversation Agent with Tool Integration"
   ]
  },
  {
   "cell_type": "code",
   "execution_count": null,
   "id": "acc1b51b",
   "metadata": {},
   "outputs": [],
   "source": [
    "agent = ConversationChain(llm=llm, tools=[get_weather])\n",
    "print(agent.run(\"What’s the weather in London?\"))"
   ]
  },
  {
   "cell_type": "markdown",
   "id": "04da5396",
   "metadata": {},
   "source": [
    "## 🧪 Step 4: Challenge the Agent with Unknown City"
   ]
  },
  {
   "cell_type": "code",
   "execution_count": null,
   "id": "dce723c8",
   "metadata": {},
   "outputs": [],
   "source": [
    "print(agent.run(\"What’s the weather in Paris?\"))"
   ]
  }
 ],
 "metadata": {},
 "nbformat": 4,
 "nbformat_minor": 5
}
