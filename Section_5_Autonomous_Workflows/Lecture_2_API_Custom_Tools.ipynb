{
 "cells": [
  {
   "cell_type": "markdown",
   "id": "40cfed3e",
   "metadata": {},
   "source": [
    "# 🔌 Lecture 2: Integrating APIs and Custom Tools"
   ]
  },
  {
   "cell_type": "markdown",
   "id": "40572186",
   "metadata": {},
   "source": [
    "In this notebook, we'll enhance your autonomous agent by connecting it to **external APIs** and **custom tools**.\n",
    "\n",
    "We'll demonstrate how to use a mock weather tool to simulate real-time data integration in LangChain.\n",
    "*Note: For production scenarios, you’ll replace the mock tool with real APIs like OpenWeatherMap, Slack, etc.*"
   ]
  },
  {
   "cell_type": "markdown",
   "id": "b772b99d",
   "metadata": {},
   "source": [
    "## 🔧 Step 1: Initialize Environment and Language Model"
   ]
  },
  {
   "cell_type": "code",
   "execution_count": null,
   "id": "aec64cbc",
   "metadata": {},
   "outputs": [],
   "source": [
    "from langchain.chains import ConversationChain\n",
    "from langchain.llms import OpenAI\n",
    "from langchain.tools import tool\n",
    "from langchain.agents import initialize_agent\n",
    "from langchain.agents.agent_types import AgentType\n",
    "from dotenv import load_dotenv\n",
    "import os\n",
    "\n",
    "# Load environment and initialize LLM\n",
    "load_dotenv()\n",
    "llm = OpenAI(api_key=os.getenv(\"OPENAI_API_KEY\"))"
   ]
  },
  {
   "cell_type": "markdown",
   "id": "ebd14e26",
   "metadata": {},
   "source": [
    "## 🌦️ Step 2: Define a Custom Tool (Mock Weather API)"
   ]
  },
  {
   "cell_type": "code",
   "execution_count": null,
   "id": "d6fb05f3",
   "metadata": {},
   "outputs": [],
   "source": [
    "@tool\n",
    "def get_weather(city: str) -> str:\n",
    "    \"\"\"Return a mock weather response for the given city.\"\"\"\n",
    "    if city.lower() == \"london\":\n",
    "        return \"It's 18°C and sunny in London.\"\n",
    "    else:\n",
    "        return f\"Sorry, I don't have weather data for {city}.\""
   ]
  },
  {
   "cell_type": "markdown",
   "id": "8124a99d",
   "metadata": {},
   "source": [
    "## 🤖 Step 3: Create Conversation Agent with Tool Integration"
   ]
  },
  {
   "cell_type": "code",
   "execution_count": null,
   "id": "acc1b51b",
   "metadata": {},
   "outputs": [],
   "source": [
    "agent_executor = initialize_agent(\n",
    "    tools=[get_weather],\n",
    "    llm=llm,\n",
    "    agent=AgentType.ZERO_SHOT_REACT_DESCRIPTION,  # or conversely: AgentType.OPENAI_FUNCTIONS\n",
    "    verbose=True\n",
    ")\n",
    "\n",
    "agent_executor.run(\"What’s the weather in London?\")\n"
   ]
  },
  {
   "cell_type": "markdown",
   "id": "04da5396",
   "metadata": {},
   "source": [
    "## 🧪 Step 4: Challenge the Agent with Unknown City"
   ]
  },
  {
   "cell_type": "code",
   "execution_count": null,
   "id": "dce723c8",
   "metadata": {},
   "outputs": [],
   "source": [
    "print(agent_executor.run(\"What’s the weather in Paris?\"))"
   ]
  }
 ],
 "metadata": {
  "kernelspec": {
   "display_name": ".venv",
   "language": "python",
   "name": "python3"
  },
  "language_info": {
   "codemirror_mode": {
    "name": "ipython",
    "version": 3
   },
   "file_extension": ".py",
   "mimetype": "text/x-python",
   "name": "python",
   "nbconvert_exporter": "python",
   "pygments_lexer": "ipython3",
   "version": "3.11.9"
  }
 },
 "nbformat": 4,
 "nbformat_minor": 5
}
