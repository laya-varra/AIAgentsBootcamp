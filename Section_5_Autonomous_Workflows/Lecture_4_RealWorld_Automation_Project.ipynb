{
 "cells": [
  {
   "cell_type": "markdown",
   "id": "3c3b5e5b",
   "metadata": {},
   "source": [
    "# 🌍 Lecture 4: Real-world AI Automation Projects"
   ]
  },
  {
   "cell_type": "markdown",
   "id": "9b5c70cc",
   "metadata": {},
   "source": [
    "In this notebook, we’ll build a real-world automation agent.\n",
    "\n",
    "Your agent will:\n",
    "- Fetch weather data (simulated)\n",
    "- Use GPT-4 to generate activity suggestions\n",
    "- Handle failures gracefully\n",
    "\n",
    "This brings together everything you’ve learned in this section."
   ]
  },
  {
   "cell_type": "markdown",
   "id": "d245088b",
   "metadata": {},
   "source": [
    "## 🔧 Step 1: Import Libraries and Initialize"
   ]
  },
  {
   "cell_type": "code",
   "execution_count": null,
   "id": "1fcbd1f7",
   "metadata": {},
   "outputs": [],
   "source": [
    "from langchain.chains import ConversationChain\n",
    "from langchain.llms import OpenAI\n",
    "from langchain.tools import tool\n",
    "from dotenv import load_dotenv\n",
    "import os\n",
    "\n",
    "load_dotenv()\n",
    "llm = OpenAI(api_key=os.getenv(\"OPENAI_API_KEY\"))"
   ]
  },
  {
   "cell_type": "markdown",
   "id": "a3df9c5d",
   "metadata": {},
   "source": [
    "## 🌦️ Step 2: Create Weather Tool"
   ]
  },
  {
   "cell_type": "code",
   "execution_count": null,
   "id": "1c6577e9",
   "metadata": {},
   "outputs": [],
   "source": [
    "@tool\n",
    "def get_weather(city: str) -> str:\n",
    "    if city.lower() == \"new york\":\n",
    "        return \"It’s 22°C and sunny in New York.\"\n",
    "    else:\n",
    "        return f\"No data available for {city}.\""
   ]
  },
  {
   "cell_type": "markdown",
   "id": "40a31ad7",
   "metadata": {},
   "source": [
    "## 🧠 Step 3: Compose Full Agent Workflow"
   ]
  },
  {
   "cell_type": "code",
   "execution_count": null,
   "id": "816050d8",
   "metadata": {},
   "outputs": [],
   "source": [
    "agent = ConversationChain(llm=llm, tools=[get_weather])\n",
    "try:\n",
    "    weather = agent.run(\"What’s the weather in New York today?\")\n",
    "    suggestion = agent.run(f\"Based on this: {weather}, what should I do today?\")\n",
    "    print(\"🌤️ Weather:\", weather)\n",
    "    print(\"🎯 Suggestion:\", suggestion)\n",
    "except Exception as e:\n",
    "    print(\"⚠️ Something went wrong:\", e)"
   ]
  }
 ],
 "metadata": {},
 "nbformat": 4,
 "nbformat_minor": 5
}
