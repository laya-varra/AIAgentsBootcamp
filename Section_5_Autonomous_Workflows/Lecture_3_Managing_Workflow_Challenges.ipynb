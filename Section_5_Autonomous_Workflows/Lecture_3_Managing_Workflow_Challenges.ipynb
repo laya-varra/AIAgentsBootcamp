{
 "cells": [
  {
   "cell_type": "markdown",
   "id": "bd3cd62b",
   "metadata": {},
   "source": [
    "# 🚨 Lecture 3: Managing Autonomous Workflow Challenges"
   ]
  },
  {
   "cell_type": "markdown",
   "id": "e754b654",
   "metadata": {},
   "source": [
    "In this notebook, we’ll learn how to handle real-world issues your agents may face:\n",
    "- Unexpected user input\n",
    "- Tool failures\n",
    "- Graceful error handling\n",
    "\n",
    "We’ll extend our agent with **try-except blocks** and teach it to **respond intelligently to failure scenarios**."
   ]
  },
  {
   "cell_type": "markdown",
   "id": "78c42bb2",
   "metadata": {},
   "source": [
    "## 🔧 Step 1: Import Libraries and Load Environment"
   ]
  },
  {
   "cell_type": "code",
   "execution_count": 11,
   "id": "f3638aac",
   "metadata": {},
   "outputs": [
    {
     "name": "stderr",
     "output_type": "stream",
     "text": [
      "C:\\Users\\praga\\AppData\\Local\\Temp\\ipykernel_32324\\1203742193.py:8: LangChainDeprecationWarning: The class `ChatOpenAI` was deprecated in LangChain 0.0.10 and will be removed in 1.0. An updated version of the class exists in the :class:`~langchain-openai package and should be used instead. To use it run `pip install -U :class:`~langchain-openai` and import as `from :class:`~langchain_openai import ChatOpenAI``.\n",
      "  llm = ChatOpenAI(\n"
     ]
    }
   ],
   "source": [
    "from langchain.agents import initialize_agent, AgentType\n",
    "from langchain.tools import Tool\n",
    "from langchain.chat_models import ChatOpenAI\n",
    "import os\n",
    "from dotenv import load_dotenv\n",
    "\n",
    "load_dotenv()\n",
    "llm = ChatOpenAI(\n",
    "    api_key=os.getenv(\"OPENAI_API_KEY\"),\n",
    "    model=\"gpt-4-1106-preview\",\n",
    "    temperature=0\n",
    ")"
   ]
  },
  {
   "cell_type": "markdown",
   "id": "787a53c4",
   "metadata": {},
   "source": [
    "## 💣 Step 2: Define a Tool That Can Fail"
   ]
  },
  {
   "cell_type": "code",
   "execution_count": 12,
   "id": "e263b366",
   "metadata": {},
   "outputs": [],
   "source": [
    "# Define a custom tool with a mock function\n",
    "@tool\n",
    "def risky_tool(city: str) -> str:\n",
    "    \"\"\"\n",
    "    Returns a mock weather update. Raises an error if city is ambiguous (e.g., 'Florida').\n",
    "    \"\"\"\n",
    "    if city.lower() == \"florida\":\n",
    "        raise ValueError(\"Ambiguous location — please specify a city like Miami or Orlando.\")\n",
    "    return f\"The weather in {city} is currently pleasant.\"\n"
   ]
  },
  {
   "cell_type": "markdown",
   "id": "3a78d027",
   "metadata": {},
   "source": [
    "## 🧰 Step 3: Handle Tool Failures Gracefully"
   ]
  },
  {
   "cell_type": "code",
   "execution_count": 14,
   "id": "c678cf11",
   "metadata": {},
   "outputs": [
    {
     "name": "stdout",
     "output_type": "stream",
     "text": [
      "\n",
      "\n",
      "\u001b[1m> Entering new AgentExecutor chain...\u001b[0m\n",
      "\u001b[32;1m\u001b[1;3m\n",
      "Invoking: `risky_tool` with `{'city': 'Florida'}`\n",
      "\n",
      "\n",
      "\u001b[0m⚠️ Error detected: Ambiguous location — please specify a city like Miami or Orlando.\n",
      "Please specify a more accurate location, like Miami or Orlando.\n"
     ]
    }
   ],
   "source": [
    "# Initialize the agent using the OpenAI Functions style\n",
    "agent = initialize_agent(\n",
    "    tools=[risky_tool],\n",
    "    llm=llm,\n",
    "    agent=AgentType.OPENAI_FUNCTIONS,\n",
    "    verbose=True,\n",
    ")\n",
    "\n",
    "# Run with error handling\n",
    "try:\n",
    "    result = agent.run(\"What’s the weather in Florida?\")\n",
    "    print(result)\n",
    "except Exception as e:\n",
    "    print(\"⚠️ Error detected:\", e)\n",
    "    print(\"Please specify a more accurate location, like Miami or Orlando.\")"
   ]
  },
  {
   "cell_type": "markdown",
   "id": "bb0948c9",
   "metadata": {},
   "source": [
    "## ✅ Step 4: Run with Valid Input"
   ]
  },
  {
   "cell_type": "code",
   "execution_count": 15,
   "id": "bbc3ef6a",
   "metadata": {},
   "outputs": [
    {
     "name": "stdout",
     "output_type": "stream",
     "text": [
      "\n",
      "\n",
      "\u001b[1m> Entering new AgentExecutor chain...\u001b[0m\n",
      "\u001b[32;1m\u001b[1;3m\n",
      "Invoking: `risky_tool` with `{'city': 'Miami'}`\n",
      "\n",
      "\n",
      "\u001b[0m\u001b[36;1m\u001b[1;3mThe weather in Miami is currently pleasant.\u001b[0m\u001b[32;1m\u001b[1;3mThe weather in Miami is currently pleasant. If you need more detailed information, such as temperature, humidity, or forecast, please let me know!\u001b[0m\n",
      "\n",
      "\u001b[1m> Finished chain.\u001b[0m\n",
      "The weather in Miami is currently pleasant. If you need more detailed information, such as temperature, humidity, or forecast, please let me know!\n"
     ]
    }
   ],
   "source": [
    "print(agent.run(\"What’s the weather in Miami?\"))"
   ]
  }
 ],
 "metadata": {
  "kernelspec": {
   "display_name": ".venv",
   "language": "python",
   "name": "python3"
  },
  "language_info": {
   "codemirror_mode": {
    "name": "ipython",
    "version": 3
   },
   "file_extension": ".py",
   "mimetype": "text/x-python",
   "name": "python",
   "nbconvert_exporter": "python",
   "pygments_lexer": "ipython3",
   "version": "3.11.9"
  }
 },
 "nbformat": 4,
 "nbformat_minor": 5
}
