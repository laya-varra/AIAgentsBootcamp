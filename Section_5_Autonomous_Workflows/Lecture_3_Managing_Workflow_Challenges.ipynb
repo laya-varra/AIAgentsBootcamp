{
 "cells": [
  {
   "cell_type": "markdown",
   "id": "bd3cd62b",
   "metadata": {},
   "source": [
    "# 🚨 Lecture 3: Managing Autonomous Workflow Challenges"
   ]
  },
  {
   "cell_type": "markdown",
   "id": "e754b654",
   "metadata": {},
   "source": [
    "In this notebook, we’ll learn how to handle real-world issues your agents may face:\n",
    "- Unexpected user input\n",
    "- Tool failures\n",
    "- Graceful error handling\n",
    "\n",
    "We’ll extend our agent with **try-except blocks** and teach it to **respond intelligently to failure scenarios**."
   ]
  },
  {
   "cell_type": "markdown",
   "id": "78c42bb2",
   "metadata": {},
   "source": [
    "## 🔧 Step 1: Import Libraries and Load Environment"
   ]
  },
  {
   "cell_type": "code",
   "execution_count": null,
   "id": "f3638aac",
   "metadata": {},
   "outputs": [],
   "source": [
    "from langchain.chains import ConversationChain\n",
    "from langchain.llms import OpenAI\n",
    "from langchain.tools import tool\n",
    "from dotenv import load_dotenv\n",
    "import os\n",
    "\n",
    "load_dotenv()\n",
    "llm = OpenAI(api_key=os.getenv(\"OPENAI_API_KEY\"))"
   ]
  },
  {
   "cell_type": "markdown",
   "id": "787a53c4",
   "metadata": {},
   "source": [
    "## 💣 Step 2: Define a Tool That Can Fail"
   ]
  },
  {
   "cell_type": "code",
   "execution_count": null,
   "id": "e263b366",
   "metadata": {},
   "outputs": [],
   "source": [
    "@tool\n",
    "def risky_tool(city: str) -> str:\n",
    "    if city.lower() == \"florida\":\n",
    "        raise ValueError(\"Ambiguous location — please specify a city like Miami or Orlando.\")\n",
    "    return f\"The weather in {city} is currently pleasant.\""
   ]
  },
  {
   "cell_type": "markdown",
   "id": "3a78d027",
   "metadata": {},
   "source": [
    "## 🧰 Step 3: Handle Tool Failures Gracefully"
   ]
  },
  {
   "cell_type": "code",
   "execution_count": null,
   "id": "c678cf11",
   "metadata": {},
   "outputs": [],
   "source": [
    "agent = ConversationChain(llm=llm, tools=[risky_tool])\n",
    "try:\n",
    "    print(agent.run(\"What’s the weather in Florida?\"))\n",
    "except Exception as e:\n",
    "    print(\"⚠️ Error detected:\", e)\n",
    "    print(\"Please specify a more accurate location, like Miami or Orlando.\")"
   ]
  },
  {
   "cell_type": "markdown",
   "id": "bb0948c9",
   "metadata": {},
   "source": [
    "## ✅ Step 4: Run with Valid Input"
   ]
  },
  {
   "cell_type": "code",
   "execution_count": null,
   "id": "bbc3ef6a",
   "metadata": {},
   "outputs": [],
   "source": [
    "print(agent.run(\"What’s the weather in Miami?\"))"
   ]
  }
 ],
 "metadata": {},
 "nbformat": 4,
 "nbformat_minor": 5
}
