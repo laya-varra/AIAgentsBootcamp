{
 "cells": [
  {
   "cell_type": "markdown",
   "id": "e7485ae4",
   "metadata": {},
   "source": [
    "# Section 8 – Lecture 1: LangGraph Introduction"
   ]
  },
  {
   "cell_type": "markdown",
   "id": "7eda941a",
   "metadata": {},
   "source": [
    "## 🧠 What You’ll Learn\n",
    "- What is LangGraph and why it's needed\n",
    "- Key benefits: reliability, determinism, production-readiness\n",
    "- How LangGraph differs from LangChain and CrewAI"
   ]
  },
  {
   "cell_type": "markdown",
   "id": "4fd3f108",
   "metadata": {},
   "source": [
    "## ✅ Step 1: Install LangGraph\n",
    "Run this in your terminal (outside notebook):"
   ]
  },
  {
   "cell_type": "code",
   "execution_count": null,
   "id": "ce23a1fc",
   "metadata": {},
   "outputs": [],
   "source": [
    "# uv pip install langgraph"
   ]
  },
  {
   "cell_type": "markdown",
   "id": "f82c7234",
   "metadata": {},
   "source": [
    "## ✅ Step 2: Import LangGraph (basic check)"
   ]
  },
  {
   "cell_type": "code",
   "execution_count": null,
   "id": "3ba4333f",
   "metadata": {},
   "outputs": [],
   "source": [
    "from langgraph.graph import StateGraph"
   ]
  },
  {
   "cell_type": "markdown",
   "id": "a7d6600d",
   "metadata": {},
   "source": [
    "## ✅ Step 3: What is LangGraph?\n",
    "LangGraph is a framework that lets you build deterministic agent flows using a state machine model. It’s designed for reliable execution, reproducibility, and production use-cases."
   ]
  },
  {
   "cell_type": "markdown",
   "id": "15df1412",
   "metadata": {},
   "source": [
    "## ✅ Step 4: Preview of a Simple LangGraph StateGraph\n",
    "(This is not a full flow, just a structure)"
   ]
  },
  {
   "cell_type": "code",
   "execution_count": null,
   "id": "2157f798",
   "metadata": {},
   "outputs": [],
   "source": [
    "from langgraph.graph import StateGraph\n",
    "\n",
    "# Define a dummy state and logic\n",
    "class MyState:\n",
    "    def __init__(self, step):\n",
    "        self.step = step\n",
    "\n",
    "def simple_fn(state):\n",
    "    print(f\"Running step: {state.step}\")\n",
    "    return MyState(step=state.step + 1)\n",
    "\n",
    "# Create the graph\n",
    "builder = StateGraph(state_type=MyState)\n",
    "builder.add_node(\"step1\", simple_fn)\n",
    "builder.set_entry_point(\"step1\")\n",
    "graph = builder.compile()\n",
    "\n",
    "# Run\n",
    "initial_state = MyState(step=0)\n",
    "graph.invoke(initial_state)"
   ]
  },
  {
   "cell_type": "markdown",
   "id": "2f23bd4d",
   "metadata": {},
   "source": [
    "## ✅ Summary\n",
    "- You’ve seen what LangGraph is and how it differs from LangChain or CrewAI\n",
    "- It’s ideal for production systems that need reliable workflows\n",
    "- Next, we’ll design an actual agent flow using LangGraph"
   ]
  }
 ],
 "metadata": {},
 "nbformat": 4,
 "nbformat_minor": 5
}