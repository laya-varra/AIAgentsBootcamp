{
    "cells": [
     {
      "cell_type": "markdown",
      "id": "906f3c87",
      "metadata": {},
      "source": [
       "# Section 8 – Lecture 3: Hands-on Project – Deterministic AI Agent Workflow"
      ]
     },
     {
      "cell_type": "markdown",
      "id": "c8c437ad",
      "metadata": {},
      "source": [
       "### 🔍 Note: How This Project Differs from Lecture 2\n",
       "In **Lecture 2**, we focused on understanding the basics of LangGraph workflows using a simple state and generic data pipeline.\n",
       "\n",
       "In this **Lecture 3 hands-on project**, we:\n",
       "- Use a **real-world scenario**: a user-facing AI assistant\n",
       "- Build a **more detailed state object** (`AssistantState`) with multiple fields\n",
       "- Implement **clean, analyze, and summarize** as realistic steps\n",
       "\n",
       "This project demonstrates how to take a LangGraph workflow from concept to **production-level design**.\n",
       "\n",
       "Let’s dive in!"
      ]
     },
     {
      "cell_type": "markdown",
      "id": "e7b11731",
      "metadata": {},
      "source": [
       "## 🧠 What You’ll Learn\n",
       "- Build a complete end-to-end deterministic agent assistant\n",
       "- Handle input, processing, decision, and summary in a structured flow\n",
       "- Use LangGraph to ensure reliability and state-based transitions"
      ]
     },
     {
      "cell_type": "markdown",
      "id": "3cfa681d",
      "metadata": {},
      "source": [
       "## ✅ Step 1: Define the Full Workflow State"
      ]
     },
     {
      "cell_type": "code",
      "execution_count": null,
      "id": "291b4e97",
      "metadata": {},
      "outputs": [],
      "source": [
       "class AssistantState:\n",
       "    def __init__(self, user_input: str, cleaned_input=None, analysis=None, summary=None):\n",
       "        self.user_input = user_input\n",
       "        self.cleaned_input = cleaned_input\n",
       "        self.analysis = analysis\n",
       "        self.summary = summary"
      ]
     },
     {
      "cell_type": "markdown",
      "id": "fca8527a",
      "metadata": {},
      "source": [
       "## ✅ Step 2: Create Agent Functions"
      ]
     },
     {
      "cell_type": "code",
      "execution_count": null,
      "id": "89768f4d",
      "metadata": {},
      "outputs": [],
      "source": [
       "def clean_input(state):\n",
       "    print(\"[1] Cleaning input...\")\n",
       "    state.cleaned_input = state.user_input.strip().lower()\n",
       "    return state\n",
       "\n",
       "def analyze_input(state):\n",
       "    print(\"[2] Analyzing input...\")\n",
       "    state.analysis = f\"The topic '{state.cleaned_input}' seems to be about AI applications.\"\n",
       "    return state\n",
       "\n",
       "def summarize_result(state):\n",
       "    print(\"[3] Summarizing results...\")\n",
       "    state.summary = f\"Summary: {state.analysis}\"\n",
       "    return state"
      ]
     },
     {
      "cell_type": "markdown",
      "id": "7f9e2e14",
      "metadata": {},
      "source": [
       "## ✅ Step 3: Build and Execute the LangGraph Workflow"
      ]
     },
     {
      "cell_type": "code",
      "execution_count": null,
      "id": "aa9c1af3",
      "metadata": {},
      "outputs": [],
      "source": [
       "from langgraph.graph import StateGraph\n",
       "\n",
       "builder = StateGraph(state_type=AssistantState)\n",
       "builder.add_node(\"clean\", clean_input)\n",
       "builder.add_node(\"analyze\", analyze_input)\n",
       "builder.add_node(\"summarize\", summarize_result)\n",
       "builder.set_entry_point(\"clean\")\n",
       "builder.add_edge(\"clean\", \"analyze\")\n",
       "builder.add_edge(\"analyze\", \"summarize\")\n",
       "\n",
       "assistant_graph = builder.compile()\n",
       "\n",
       "# Run with sample input\n",
       "state = AssistantState(user_input=\"   How can AI agents help businesses today?   \")\n",
       "final_state = assistant_graph.invoke(state)\n",
       "\n",
       "print(\"\\n✅ Final Output:\")\n",
       "print(final_state.summary)"
      ]
     },
     {
      "cell_type": "markdown",
      "id": "641f9ff7",
      "metadata": {},
      "source": [
       "## ✅ Summary\n",
       "- You built a 3-step AI assistant with deterministic behavior\n",
       "- Each node handled one responsibility: clean → analyze → summarize\n",
       "- This structure makes your AI systems production-ready"
      ]
     }
    ],
    "metadata": {},
    "nbformat": 4,
    "nbformat_minor": 5
   }
   