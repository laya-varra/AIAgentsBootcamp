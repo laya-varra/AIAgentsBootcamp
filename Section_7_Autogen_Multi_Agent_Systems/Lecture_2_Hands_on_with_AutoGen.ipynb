{
 "cells": [
  {
   "cell_type": "markdown",
   "id": "889be77f",
   "metadata": {},
   "source": [
    "# Section 7, Lecture 3: Hands-on AutoGen: Create AI Agents for Sales Automation\n",
    "\n",
    "Welcome to Lecture 3 of Section 7! In the last lecture, we introduced AutoGen and saw how it can help you build a team of AI agents to tackle business tasks. Now, we’re getting hands-on. In this notebook, you’ll create your own multi-agent system using AutoGen to automate a real-world business task: handling sales queries. By the end, you’ll have a working system that can save your sales team hours of manual work, boosting productivity and keeping your customers happy.\n",
    "\n",
    "### What You’ll Build\n",
    "- A multi-agent system using AutoGen with two agents: a user proxy and an assistant.\n",
    "- A system to automate:\n",
    "  - **User Proxy Agent**: Receives the customer’s query (e.g., “What’s the status of my order?”).\n",
    "  - **Assistant Agent**: Responds with an answer, powered by GPT-4.\n",
    "\n",
    "### Why This Matters for Business\n",
    "Sales queries can take hours of manual work—time your team could spend closing deals. With AutoGen, you’ll automate these tasks, ensuring faster responses, happier customers, and more time for your team to focus on selling.\n",
    "\n",
    "Let’s get started!\n"
   ]
  },
  {
   "cell_type": "code",
   "execution_count": 1,
   "id": "46cb1e88",
   "metadata": {},
   "outputs": [
    {
     "name": "stdout",
     "output_type": "stream",
     "text": [
      "AutoGen is installed! Version: 0.5.3\n"
     ]
    },
    {
     "name": "stderr",
     "output_type": "stream",
     "text": [
      "c:\\Users\\praga\\AI_Agents_Bootcamp\\.venv\\Lib\\site-packages\\flaml\\__init__.py:20: UserWarning: flaml.automl is not available. Please install flaml[automl] to enable AutoML functionalities.\n",
      "  warnings.warn(\"flaml.automl is not available. Please install flaml[automl] to enable AutoML functionalities.\")\n"
     ]
    }
   ],
   "source": [
    "# Step 1: Install AutoGen\n",
    "# If you haven’t installed AutoGen yet, run this in your terminal (not here):\n",
    "# uv pip install pyautogen\n",
    "# Make sure your virtual environment is activated:\n",
    "# Mac/Linux: source .venv/bin/activate\n",
    "# Windows: .venv\\Scripts\\Activate\n",
    "\n",
    "# Verify the installation\n",
    "try:\n",
    "    import autogen\n",
    "    print(\"AutoGen is installed! Version:\", autogen.__version__)\n",
    "except ImportError:\n",
    "    print(\"AutoGen not found. Please install it using the command above.\")\n"
   ]
  },
  {
   "cell_type": "markdown",
   "id": "c09c1f71",
   "metadata": {},
   "source": [
    "## Step 1: Installing AutoGen\n",
    "In this cell, we’re checking if AutoGen is installed. If you see a version number, you’re good to go! If not, follow the instructions to install it using `uv pip install pyautogen` in your terminal. We’re using `uv` as our package manager, which we set up in Section 2, for faster and more reliable installations.\n"
   ]
  },
  {
   "cell_type": "code",
   "execution_count": 2,
   "id": "1cd461f8",
   "metadata": {},
   "outputs": [
    {
     "name": "stdout",
     "output_type": "stream",
     "text": [
      "API key loaded successfully!\n"
     ]
    }
   ],
   "source": [
    "# Step 2: Load your OpenAI API key\n",
    "from dotenv import load_dotenv\n",
    "import os\n",
    "\n",
    "# Load the .env file\n",
    "load_dotenv()\n",
    "\n",
    "# Get the API key\n",
    "openai_api_key = os.getenv(\"OPENAI_API_KEY\")\n",
    "\n",
    "# Verify the key\n",
    "if openai_api_key:\n",
    "    print(\"API key loaded successfully!\")\n",
    "else:\n",
    "    print(\"API key not found. Make sure your .env file has OPENAI_API_KEY set.\")\n"
   ]
  },
  {
   "cell_type": "markdown",
   "id": "e74a9695",
   "metadata": {},
   "source": [
    "## Step 2: Loading the OpenAI API Key\n",
    "We’re loading your OpenAI API key from the `.env` file to use GPT-4 as the brain for our agents. If you see “API key loaded successfully!” you’re ready to proceed. If not, ensure your `.env` file has `OPENAI_API_KEY=your-key-here`. Never share your API key publicly!\n"
   ]
  },
  {
   "cell_type": "code",
   "execution_count": 4,
   "id": "096b8ab8",
   "metadata": {},
   "outputs": [
    {
     "name": "stdout",
     "output_type": "stream",
     "text": [
      "Agents created successfully!\n"
     ]
    }
   ],
   "source": [
    "# Step 3: Set up AutoGen agents\n",
    "from autogen import AssistantAgent, UserProxyAgent\n",
    "\n",
    "# Configure the model (GPT-4) with your API key\n",
    "config_list = [{\"model\": \"gpt-4\", \"api_key\": openai_api_key}]\n",
    "\n",
    "# Create a user proxy agent (receives the customer query)\n",
    "user_proxy = UserProxyAgent(\n",
    "    name=\"user\",\n",
    "    human_input_mode=\"NEVER\",\n",
    "    max_consecutive_auto_reply=1,\n",
    "    code_execution_config={\"use_docker\": False}\n",
    ")\n",
    "\n",
    "# Create an assistant agent (responds using GPT-4)\n",
    "assistant = AssistantAgent(\n",
    "    name=\"helper\",\n",
    "    llm_config={\"config_list\": config_list}\n",
    ")\n",
    "\n",
    "print(\"Agents created successfully!\")\n"
   ]
  },
  {
   "cell_type": "markdown",
   "id": "183125f2",
   "metadata": {},
   "source": [
    "## Step 3: Setting Up AutoGen Agents\n",
    "Here, we’re creating two agents:\n",
    "- **User Proxy Agent**: Acts like the customer, starting the conversation. We set `human_input_mode=\"NEVER\"` to automate it, and `max_consecutive_auto_reply=1` to keep the chat short.\n",
    "- **Assistant Agent**: Uses GPT-4 to respond, configured with your API key.\n",
    "\n",
    "These agents will work together to handle a sales query, just like a real sales team.\n"
   ]
  },
  {
   "cell_type": "code",
   "execution_count": 5,
   "id": "c71df18e",
   "metadata": {},
   "outputs": [
    {
     "name": "stdout",
     "output_type": "stream",
     "text": [
      "\u001b[33muser\u001b[0m (to helper):\n",
      "\n",
      "What’s the status of order #98765 for client ABC Corp?\n",
      "\n",
      "--------------------------------------------------------------------------------\n",
      "\u001b[33mhelper\u001b[0m (to user):\n",
      "\n",
      "As an AI, I don't have direct access to databases containing real-world customer or order data. Therefore, I'm unable to fetch the order status for you. However, assuming you have the order details in a Python accessible database, I can help you draft a Python script to retrieve those details if you provide me with the database details.\n",
      "\n",
      "Here's a basic Python script that describes how you could retrieve such information from a hypothetical database. In this case, I'm using SQLite as an example, but the concept would be the same for other databases; you'd just need to use the appropriate connection details and driver.\n",
      "\n",
      "Please replace `'my_database.db'` with the path and name of your SQLite database file. If you're not using an SQLite database, also replace `sqlite3` with the appropriate driver for your database, and the `con` line with a line appropriate for connecting to your type of database.\n",
      "\n",
      "```python\n",
      "import sqlite3\n",
      "\n",
      "def get_order_status(order_id: str, client_name: str):\n",
      "    # Connect to the SQLite database (replace 'my_database.db' with your actual database file)\n",
      "    con = sqlite3.connect('my_database.db')\n",
      "\n",
      "    # Create a cursor object\n",
      "    cursor = con.cursor()\n",
      "\n",
      "    # Write the SQL query to get order status\n",
      "    query = f\"SELECT status FROM orders WHERE id = '{order_id}' AND client_name = '{client_name}'\"\n",
      "\n",
      "    # Execute the query\n",
      "    cursor.execute(query)\n",
      "\n",
      "    # Fetch the result\n",
      "    result = cursor.fetchone()\n",
      "\n",
      "    # Close the connection\n",
      "    con.close()\n",
      "\n",
      "    return result\n",
      "\n",
      "# Call the function\n",
      "status = get_order_status('98765', 'ABC Corp')\n",
      "print(f'The status of order #98765 for client ABC Corp is: {status}')\n",
      "```\n",
      "\n",
      "Please run this script after you've replaced the placeholder values with the actual values that are appropriate for your scenarios. Please remember that the script is assuming you have a table named `orders` with columns `id`, `client_name`, and `status` that represent the order id, the client name and the order status respectively. If your schema (table/column names) are different, please adjust the script accordingly.\n",
      "\n",
      "\n",
      "--------------------------------------------------------------------------------\n",
      "\u001b[31m\n",
      ">>>>>>>> EXECUTING CODE BLOCK 0 (inferred language is python)...\u001b[0m\n",
      "\u001b[33muser\u001b[0m (to helper):\n",
      "\n",
      "exitcode: 1 (execution failed)\n",
      "Code output: \n",
      "Traceback (most recent call last):\n",
      "  File \"\", line 25, in <module>\n",
      "    status = get_order_status('98765', 'ABC Corp')\n",
      "             ^^^^^^^^^^^^^^^^^^^^^^^^^^^^^^^^^^^^^\n",
      "  File \"\", line 14, in get_order_status\n",
      "    cursor.execute(query)\n",
      "sqlite3.OperationalError: no such table: orders\n",
      "\n",
      "\n",
      "--------------------------------------------------------------------------------\n",
      "\u001b[33mhelper\u001b[0m (to user):\n",
      "\n",
      "From the error message \"no such table: orders\", it seems that the SQLite database does not contain a table named 'orders'. The database schema might be different than expected.\n",
      "\n",
      "An alternative way is that we can try to list all the tables in your database first, so we can find the correct table where the order information is stored. To do so, you'd execute this script:\n",
      "\n",
      "```python\n",
      "import sqlite3\n",
      "\n",
      "# Connect to the SQLite database (replace 'my_database.db' with your actual database file)\n",
      "con = sqlite3.connect('my_database.db')\n",
      "\n",
      "# Create a cursor object\n",
      "cursor = con.cursor()\n",
      "\n",
      "# Write the sql query to fetch all tables in the database.\n",
      "query = \"SELECT name FROM sqlite_master WHERE type='table';\"\n",
      "\n",
      "# Execute the query\n",
      "cursor.execute(query)\n",
      "\n",
      "# Fetch and print all results\n",
      "result = cursor.fetchall()\n",
      "for table in result:\n",
      "    print(table[0])  # Print table name\n",
      "\n",
      "# Close the connection\n",
      "con.close()\n",
      "```\n",
      "\n",
      "Please replace `'my_database.db'` with the actual path and name of the sqlite database you are trying to access. This script will print all the table names that exist in your sqlite database. \n",
      "\n",
      "Note: Again, the provided code assumes that you are using SQLite database. If you're using a different type of database, please mention it so that I can adjust the code appropriately.\n",
      "\n",
      "--------------------------------------------------------------------------------\n"
     ]
    },
    {
     "data": {
      "text/plain": [
       "ChatResult(chat_id=None, chat_history=[{'content': 'What’s the status of order #98765 for client ABC Corp?', 'role': 'assistant', 'name': 'user'}, {'content': 'As an AI, I don\\'t have direct access to databases containing real-world customer or order data. Therefore, I\\'m unable to fetch the order status for you. However, assuming you have the order details in a Python accessible database, I can help you draft a Python script to retrieve those details if you provide me with the database details.\\n\\nHere\\'s a basic Python script that describes how you could retrieve such information from a hypothetical database. In this case, I\\'m using SQLite as an example, but the concept would be the same for other databases; you\\'d just need to use the appropriate connection details and driver.\\n\\nPlease replace `\\'my_database.db\\'` with the path and name of your SQLite database file. If you\\'re not using an SQLite database, also replace `sqlite3` with the appropriate driver for your database, and the `con` line with a line appropriate for connecting to your type of database.\\n\\n```python\\nimport sqlite3\\n\\ndef get_order_status(order_id: str, client_name: str):\\n    # Connect to the SQLite database (replace \\'my_database.db\\' with your actual database file)\\n    con = sqlite3.connect(\\'my_database.db\\')\\n\\n    # Create a cursor object\\n    cursor = con.cursor()\\n\\n    # Write the SQL query to get order status\\n    query = f\"SELECT status FROM orders WHERE id = \\'{order_id}\\' AND client_name = \\'{client_name}\\'\"\\n\\n    # Execute the query\\n    cursor.execute(query)\\n\\n    # Fetch the result\\n    result = cursor.fetchone()\\n\\n    # Close the connection\\n    con.close()\\n\\n    return result\\n\\n# Call the function\\nstatus = get_order_status(\\'98765\\', \\'ABC Corp\\')\\nprint(f\\'The status of order #98765 for client ABC Corp is: {status}\\')\\n```\\n\\nPlease run this script after you\\'ve replaced the placeholder values with the actual values that are appropriate for your scenarios. Please remember that the script is assuming you have a table named `orders` with columns `id`, `client_name`, and `status` that represent the order id, the client name and the order status respectively. If your schema (table/column names) are different, please adjust the script accordingly.\\n', 'role': 'user', 'name': 'helper'}, {'content': 'exitcode: 1 (execution failed)\\nCode output: \\nTraceback (most recent call last):\\n  File \"\", line 25, in <module>\\n    status = get_order_status(\\'98765\\', \\'ABC Corp\\')\\n             ^^^^^^^^^^^^^^^^^^^^^^^^^^^^^^^^^^^^^\\n  File \"\", line 14, in get_order_status\\n    cursor.execute(query)\\nsqlite3.OperationalError: no such table: orders\\n', 'role': 'assistant', 'name': 'user'}, {'content': 'From the error message \"no such table: orders\", it seems that the SQLite database does not contain a table named \\'orders\\'. The database schema might be different than expected.\\n\\nAn alternative way is that we can try to list all the tables in your database first, so we can find the correct table where the order information is stored. To do so, you\\'d execute this script:\\n\\n```python\\nimport sqlite3\\n\\n# Connect to the SQLite database (replace \\'my_database.db\\' with your actual database file)\\ncon = sqlite3.connect(\\'my_database.db\\')\\n\\n# Create a cursor object\\ncursor = con.cursor()\\n\\n# Write the sql query to fetch all tables in the database.\\nquery = \"SELECT name FROM sqlite_master WHERE type=\\'table\\';\"\\n\\n# Execute the query\\ncursor.execute(query)\\n\\n# Fetch and print all results\\nresult = cursor.fetchall()\\nfor table in result:\\n    print(table[0])  # Print table name\\n\\n# Close the connection\\ncon.close()\\n```\\n\\nPlease replace `\\'my_database.db\\'` with the actual path and name of the sqlite database you are trying to access. This script will print all the table names that exist in your sqlite database. \\n\\nNote: Again, the provided code assumes that you are using SQLite database. If you\\'re using a different type of database, please mention it so that I can adjust the code appropriately.', 'role': 'user', 'name': 'helper'}], summary='From the error message \"no such table: orders\", it seems that the SQLite database does not contain a table named \\'orders\\'. The database schema might be different than expected.\\n\\nAn alternative way is that we can try to list all the tables in your database first, so we can find the correct table where the order information is stored. To do so, you\\'d execute this script:\\n\\n```python\\nimport sqlite3\\n\\n# Connect to the SQLite database (replace \\'my_database.db\\' with your actual database file)\\ncon = sqlite3.connect(\\'my_database.db\\')\\n\\n# Create a cursor object\\ncursor = con.cursor()\\n\\n# Write the sql query to fetch all tables in the database.\\nquery = \"SELECT name FROM sqlite_master WHERE type=\\'table\\';\"\\n\\n# Execute the query\\ncursor.execute(query)\\n\\n# Fetch and print all results\\nresult = cursor.fetchall()\\nfor table in result:\\n    print(table[0])  # Print table name\\n\\n# Close the connection\\ncon.close()\\n```\\n\\nPlease replace `\\'my_database.db\\'` with the actual path and name of the sqlite database you are trying to access. This script will print all the table names that exist in your sqlite database. \\n\\nNote: Again, the provided code assumes that you are using SQLite database. If you\\'re using a different type of database, please mention it so that I can adjust the code appropriately.', cost={'usage_including_cached_inference': {'total_cost': 0.08865, 'gpt-4-0613': {'cost': 0.08865, 'prompt_tokens': 1515, 'completion_tokens': 720, 'total_tokens': 2235}}, 'usage_excluding_cached_inference': {'total_cost': 0.08865, 'gpt-4-0613': {'cost': 0.08865, 'prompt_tokens': 1515, 'completion_tokens': 720, 'total_tokens': 2235}}}, human_input=[])"
      ]
     },
     "execution_count": 5,
     "metadata": {},
     "output_type": "execute_result"
    }
   ],
   "source": [
    "# Step 4: Start the conversation between agents\n",
    "user_proxy.initiate_chat(\n",
    "    assistant,\n",
    "    message=\"What’s the status of order #98765 for client ABC Corp?\"\n",
    ")\n",
    "\n",
    "# The output will appear below this cell\n"
   ]
  },
  {
   "cell_type": "markdown",
   "id": "44c747a1",
   "metadata": {},
   "source": [
    "## Step 4: Starting the Conversation\n",
    "In this cell, the user proxy starts a chat with the assistant, asking, “What’s the status of order #98765 for client ABC Corp?” The assistant, powered by GPT-4, will respond—something like, “I’d need access to the order database to check the status—can you provide more details?” That’s because GPT-4 doesn’t have real-time data yet. In a real system, you’d connect AutoGen to your database, which we’ll explore later. For now, this shows how the agents collaborate—one asks, the other answers, automating the sales query process!\n"
   ]
  },
  {
   "cell_type": "markdown",
   "id": "ec071d7e",
   "metadata": {},
   "source": [
    "## Wrap-Up\n",
    "You’ve just built your first multi-agent system with AutoGen! You:\n",
    "- Installed AutoGen and set it up\n",
    "- Created two agents: a user proxy and an assistant\n",
    "- Made them collaborate to handle a sales query\n",
    "\n",
    "This system can save your sales team hours of manual work, ensuring faster responses and happier customers. In the next lecture, we’ll introduce CrewAI, another tool for building multi-agent systems, and explore how it can automate customer support workflows.\n",
    "\n",
    "### Try It Out\n",
    "- Change the query in the `initiate_chat` call to something else, like “Can you offer a discount on order #98765?” Run the notebook and share the assistant’s response in the Q&A—I’d love to see what your agents say!\n",
    "\n",
    "See you in the next lecture!\n"
   ]
  }
 ],
 "metadata": {
  "kernelspec": {
   "display_name": ".venv",
   "language": "python",
   "name": "python3"
  },
  "language_info": {
   "codemirror_mode": {
    "name": "ipython",
    "version": 3
   },
   "file_extension": ".py",
   "mimetype": "text/x-python",
   "name": "python",
   "nbconvert_exporter": "python",
   "pygments_lexer": "ipython3",
   "version": "3.11.9"
  }
 },
 "nbformat": 4,
 "nbformat_minor": 5
}
