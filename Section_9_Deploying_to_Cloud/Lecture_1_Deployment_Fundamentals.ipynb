{
 "cells": [
  {
   "cell_type": "markdown",
   "id": "446914f0",
   "metadata": {},
   "source": [
    "# 🚀 Lecture 1: Deployment Fundamentals\n",
    "This notebook introduces core concepts for deploying your AI Agents using LangGraph workflows."
   ]
  },
  {
   "cell_type": "markdown",
   "id": "df8558ca",
   "metadata": {},
   "source": [
    "## ✅ Step 1: Set up your project structure"
   ]
  },
  {
   "cell_type": "code",
   "execution_count": null,
   "id": "74d36682",
   "metadata": {},
   "outputs": [],
   "source": [
    "# Create basic project folder structure\n",
    "!mkdir -p deployment_demo/langgraph_agent\n",
    "!touch deployment_demo/langgraph_agent/__init__.py"
   ]
  },
  {
   "cell_type": "markdown",
   "id": "3bedb7c2",
   "metadata": {},
   "source": [
    "## ✅ Step 2: Create a basic LangGraph workflow script"
   ]
  },
  {
   "cell_type": "code",
   "execution_count": null,
   "id": "852ef565",
   "metadata": {},
   "outputs": [],
   "source": [
    "# Save a dummy script for deployment demonstration\n",
    "script_content = \"\"\"from langgraph.graph import StateGraph\n",
    "from langchain_core.runnables import RunnableLambda\n",
    "\n",
    "def start_agent(state): return {\"result\": f\"Hello, {state['name']}!\"}\n",
    "\n",
    "builder = StateGraph(dict)\n",
    "builder.add_node(\"start\", RunnableLambda(start_agent))\n",
    "builder.set_entry_point(\"start\")\n",
    "app = builder.compile()\n",
    "\n",
    "if __name__ == \"__main__\":\n",
    "    print(app.invoke({\"name\": \"Alice\"}))\n",
    "\"\"\"\n",
    "\n",
    "with open(\"deployment_demo/langgraph_agent/main.py\", \"w\") as f:\n",
    "    f.write(script_content)"
   ]
  },
  {
   "cell_type": "markdown",
   "id": "f399cc08",
   "metadata": {},
   "source": [
    "## ✅ Step 3: Create requirements.txt"
   ]
  },
  {
   "cell_type": "code",
   "execution_count": null,
   "id": "c4180d20",
   "metadata": {},
   "outputs": [],
   "source": [
    "# Save basic requirements file\n",
    "with open(\"deployment_demo/requirements.txt\", \"w\") as f:\n",
    "    f.write(\"langgraph\n",
    "langchain-core\")"
   ]
  },
  {
   "cell_type": "markdown",
   "id": "f3e3cc47",
   "metadata": {},
   "source": [
    "## ✅ Step 4: Run your script locally to test it"
   ]
  },
  {
   "cell_type": "code",
   "execution_count": null,
   "id": "af5b3130",
   "metadata": {},
   "outputs": [],
   "source": [
    "!python3 deployment_demo/langgraph_agent/main.py"
   ]
  }
 ],
 "metadata": {},
 "nbformat": 4,
 "nbformat_minor": 5
}
