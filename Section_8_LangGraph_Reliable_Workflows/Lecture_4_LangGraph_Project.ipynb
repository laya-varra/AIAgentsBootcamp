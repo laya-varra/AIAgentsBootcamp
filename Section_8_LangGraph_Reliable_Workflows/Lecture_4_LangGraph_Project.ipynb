{
 "cells": [
  {
   "cell_type": "markdown",
   "id": "724e7382",
   "metadata": {},
   "source": [
    "\n",
    "# Section 8, Lecture 4: Project – Build a Comprehensive AI Workflow with LangGraph\n",
    "\n",
    "Welcome to the final lecture of Section 8! You’ve learned how to build reliable AI workflows with LangGraph, from triaging customer support inquiries to enhancing them with memory and branching logic. Now, it’s time to put it all together in a capstone project.\n",
    "\n",
    "In this notebook, you’ll build a comprehensive AI workflow to automate an e-commerce order processing system—a real-world task that can save your business hours, reduce errors, and keep your operations running smoothly.\n"
   ]
  },
  {
   "cell_type": "markdown",
   "id": "d43dd6ff",
   "metadata": {},
   "source": [
    "\n",
    "### What You’ll Build\n",
    "- A comprehensive LangGraph workflow with:\n",
    "  - **Memory**: Tracks order history to avoid duplicates.\n",
    "  - **Branching Logic**: Handles scenarios like low inventory or payment failures.\n",
    "  - **Nodes**: Verifies orders, checks inventory, processes payment, and schedules delivery.\n",
    "- The workflow will ensure reliability with error handling (e.g., retries).\n"
   ]
  },
  {
   "cell_type": "markdown",
   "id": "79e40998",
   "metadata": {},
   "source": [
    "\n",
    "### Why This Matters for Business\n",
    "Manual order processing can lead to delays and errors, frustrating customers. With this workflow, you’ll automate the process with reliability, ensuring faster orders, fewer mistakes, and a better customer experience.\n"
   ]
  },
  {
   "cell_type": "code",
   "execution_count": 1,
   "id": "58a0ad23",
   "metadata": {},
   "outputs": [
    {
     "name": "stdout",
     "output_type": "stream",
     "text": [
      "LangGraph not found. Please install it using 'uv pip install langgraph'\n"
     ]
    }
   ],
   "source": [
    "\n",
    "# Step 1: Install LangGraph\n",
    "# Run this in your terminal if not already installed:\n",
    "# uv pip install langgraph\n",
    "\n",
    "try:\n",
    "    import langgraph\n",
    "    print(\"LangGraph is installed! Version:\", langgraph.__version__)\n",
    "except ImportError:\n",
    "    print(\"LangGraph not found. Please install it using 'uv pip install langgraph'\")\n"
   ]
  },
  {
   "cell_type": "markdown",
   "id": "14fa1704",
   "metadata": {},
   "source": [
    "\n",
    "## Step 1: Installing LangGraph\n",
    "In this cell, we’re checking if LangGraph is installed. If you see a version number, you’re good to go!\n"
   ]
  },
  {
   "cell_type": "code",
   "execution_count": 2,
   "id": "dd4d7f72",
   "metadata": {},
   "outputs": [
    {
     "name": "stdout",
     "output_type": "stream",
     "text": [
      "API key loaded successfully!\n"
     ]
    }
   ],
   "source": [
    "\n",
    "# Step 2: Load your OpenAI API key\n",
    "from dotenv import load_dotenv\n",
    "import os\n",
    "\n",
    "load_dotenv()\n",
    "openai_api_key = os.getenv(\"OPENAI_API_KEY\")\n",
    "\n",
    "if openai_api_key:\n",
    "    print(\"API key loaded successfully!\")\n",
    "else:\n",
    "    print(\"API key not found.\")\n"
   ]
  },
  {
   "cell_type": "markdown",
   "id": "943e514a",
   "metadata": {},
   "source": [
    "\n",
    "## Step 2: Loading the OpenAI API Key\n",
    "We’re loading your OpenAI API key from the `.env` file to use GPT-4 in our workflow. If you see “API key loaded successfully!” you’re ready to proceed.\n"
   ]
  },
  {
   "cell_type": "code",
   "execution_count": 3,
   "id": "1664e3b3",
   "metadata": {},
   "outputs": [
    {
     "ename": "ModuleNotFoundError",
     "evalue": "No module named 'langgraph'",
     "output_type": "error",
     "traceback": [
      "\u001b[31m---------------------------------------------------------------------------\u001b[39m",
      "\u001b[31mModuleNotFoundError\u001b[39m                       Traceback (most recent call last)",
      "\u001b[36mCell\u001b[39m\u001b[36m \u001b[39m\u001b[32mIn[3]\u001b[39m\u001b[32m, line 2\u001b[39m\n\u001b[32m      1\u001b[39m \u001b[38;5;66;03m# Step 3: Set up the LangGraph workflow with memory\u001b[39;00m\n\u001b[32m----> \u001b[39m\u001b[32m2\u001b[39m \u001b[38;5;28;01mfrom\u001b[39;00m\u001b[38;5;250m \u001b[39m\u001b[34;01mlanggraph\u001b[39;00m\u001b[34;01m.\u001b[39;00m\u001b[34;01mgraph\u001b[39;00m\u001b[38;5;250m \u001b[39m\u001b[38;5;28;01mimport\u001b[39;00m StateGraph, END\n\u001b[32m      3\u001b[39m \u001b[38;5;28;01mfrom\u001b[39;00m\u001b[38;5;250m \u001b[39m\u001b[34;01mlangchain_openai\u001b[39;00m\u001b[38;5;250m \u001b[39m\u001b[38;5;28;01mimport\u001b[39;00m ChatOpenAI\n\u001b[32m      4\u001b[39m \u001b[38;5;28;01mfrom\u001b[39;00m\u001b[38;5;250m \u001b[39m\u001b[34;01mtyping\u001b[39;00m\u001b[38;5;250m \u001b[39m\u001b[38;5;28;01mimport\u001b[39;00m Dict, Any\n",
      "\u001b[31mModuleNotFoundError\u001b[39m: No module named 'langgraph'"
     ]
    }
   ],
   "source": [
    "\n",
    "# Step 3: Set up the LangGraph workflow with memory\n",
    "from langgraph.graph import StateGraph, END\n",
    "from langchain_openai import ChatOpenAI\n",
    "from typing import Dict, Any\n",
    "\n",
    "llm = ChatOpenAI(\n",
    "    model=\"gpt-4\",\n",
    "    api_key=openai_api_key\n",
    ")\n",
    "\n",
    "class WorkflowState(dict):\n",
    "    pass\n",
    "\n",
    "workflow = StateGraph(WorkflowState)\n",
    "\n",
    "print(\"Workflow with memory set up successfully!\")\n"
   ]
  },
  {
   "cell_type": "markdown",
   "id": "b67e3d3c",
   "metadata": {},
   "source": [
    "\n",
    "## Step 3: Setting Up the LangGraph Workflow with Memory\n",
    "We define the state with memory support to track order-related info. GPT-4 is initialized to power all processing.\n"
   ]
  },
  {
   "cell_type": "code",
   "execution_count": null,
   "id": "eaada00e",
   "metadata": {},
   "outputs": [],
   "source": [
    "\n",
    "# Step 4: Define nodes and branching logic\n",
    "memory = {\"order_98765\": \"Previous order: 2 laptops, $2000, delivered on 2025-04-01.\"}\n",
    "inventory = {\"laptops\": 2}\n",
    "\n",
    "def verify_order(state):\n",
    "    state[\"order_status\"] = \"verified\"\n",
    "    state[\"memory\"] = {\"current_order\": memory.get(\"order_98765\", \"No past orders found.\")}\n",
    "    return state\n",
    "\n",
    "def check_inventory(state):\n",
    "    state[\"inventory_status\"] = \"In stock\" if inventory[\"laptops\"] >= 2 else \"Low stock\"\n",
    "    return state\n",
    "\n",
    "def process_payment(state):\n",
    "    state[\"payment_status\"] = \"Payment successful\" if state[\"inventory_status\"] == \"In stock\" else \"Payment failed\"\n",
    "    return state\n",
    "\n",
    "def schedule_delivery(state):\n",
    "    state[\"delivery_status\"] = \"Delivery scheduled\" if state[\"payment_status\"] == \"Payment successful\" else \"Cannot deliver\"\n",
    "    return state\n",
    "\n",
    "def handle_low_inventory(state):\n",
    "    state[\"delivery_status\"] = \"Restock request sent\"\n",
    "    return state\n",
    "\n",
    "def handle_payment_failure(state):\n",
    "    state[\"delivery_status\"] = \"Payment failed. Flagged for review\"\n",
    "    return state\n",
    "\n",
    "workflow.add_node(\"verify\", verify_order)\n",
    "workflow.add_node(\"check_inventory\", check_inventory)\n",
    "workflow.add_node(\"process_payment\", process_payment)\n",
    "workflow.add_node(\"schedule_delivery\", schedule_delivery)\n",
    "workflow.add_node(\"handle_low_inventory\", handle_low_inventory)\n",
    "workflow.add_node(\"handle_payment_failure\", handle_payment_failure)\n",
    "\n",
    "workflow.set_entry_point(\"verify\")\n",
    "workflow.add_edge(\"verify\", \"check_inventory\")\n",
    "\n",
    "workflow.add_conditional_edges(\n",
    "    \"check_inventory\",\n",
    "    lambda state: \"handle_low_inventory\" if \"Low\" in state[\"inventory_status\"] else \"process_payment\",\n",
    "    {\n",
    "        \"handle_low_inventory\": \"handle_low_inventory\",\n",
    "        \"process_payment\": \"process_payment\"\n",
    "    }\n",
    ")\n",
    "\n",
    "workflow.add_conditional_edges(\n",
    "    \"process_payment\",\n",
    "    lambda state: \"handle_payment_failure\" if \"failed\" in state[\"payment_status\"].lower() else \"schedule_delivery\",\n",
    "    {\n",
    "        \"handle_payment_failure\": \"handle_payment_failure\",\n",
    "        \"schedule_delivery\": \"schedule_delivery\"\n",
    "    }\n",
    ")\n",
    "\n",
    "workflow.add_edge(\"schedule_delivery\", END)\n",
    "workflow.add_edge(\"handle_low_inventory\", END)\n",
    "workflow.add_edge(\"handle_payment_failure\", END)\n",
    "\n",
    "app = workflow.compile()\n",
    "print(\"Workflow compiled successfully.\")\n"
   ]
  },
  {
   "cell_type": "markdown",
   "id": "60663569",
   "metadata": {},
   "source": [
    "\n",
    "## Step 4: Defining Nodes and Branching Logic\n",
    "Each node is responsible for a business task (verify, inventory, payment, delivery). We’ve also added paths for failure scenarios like low inventory and failed payments.\n"
   ]
  },
  {
   "cell_type": "code",
   "execution_count": null,
   "id": "28599051",
   "metadata": {},
   "outputs": [],
   "source": [
    "\n",
    "# Step 5: Run the comprehensive workflow\n",
    "initial_state = WorkflowState({\n",
    "    \"order_details\": \"Order #98765: 2 laptops, $2000, deliver to 123 Main St.\",\n",
    "    \"order_status\": \"\",\n",
    "    \"inventory_status\": \"\",\n",
    "    \"payment_status\": \"\",\n",
    "    \"delivery_status\": \"\",\n",
    "    \"memory\": {}\n",
    "})\n",
    "\n",
    "result = app.invoke(initial_state)\n",
    "\n",
    "# Print the result\n",
    "print(\"Final Output:\")\n",
    "for k, v in result.items():\n",
    "    print(f\"{k}: {v}\")\n"
   ]
  },
  {
   "cell_type": "markdown",
   "id": "1c7823f3",
   "metadata": {},
   "source": [
    "\n",
    "## Step 5: Running the Comprehensive Workflow\n",
    "We run the workflow with a simulated order. The final output shows whether the delivery is scheduled, a restock was triggered, or payment failed.\n"
   ]
  },
  {
   "cell_type": "markdown",
   "id": "c9e5e8e6",
   "metadata": {},
   "source": [
    "\n",
    "## Wrap-Up\n",
    "Congratulations! You've built a full-featured LangGraph-powered system that:\n",
    "- Verifies order details\n",
    "- Checks inventory\n",
    "- Processes payment\n",
    "- Schedules delivery or handles failure scenarios\n",
    "\n",
    "Try modifying the input to simulate different business workflows!\n"
   ]
  }
 ],
 "metadata": {
  "kernelspec": {
   "display_name": ".venv",
   "language": "python",
   "name": "python3"
  },
  "language_info": {
   "codemirror_mode": {
    "name": "ipython",
    "version": 3
   },
   "file_extension": ".py",
   "mimetype": "text/x-python",
   "name": "python",
   "nbconvert_exporter": "python",
   "pygments_lexer": "ipython3",
   "version": "3.11.9"
  }
 },
 "nbformat": 4,
 "nbformat_minor": 5
}
