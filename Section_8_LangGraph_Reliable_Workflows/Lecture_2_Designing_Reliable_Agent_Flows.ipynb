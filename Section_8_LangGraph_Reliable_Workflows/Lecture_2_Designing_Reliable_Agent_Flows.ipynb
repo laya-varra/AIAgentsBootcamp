{
    "cells": [
     {
      "cell_type": "markdown",
      "id": "90b20f2a",
      "metadata": {},
      "source": [
       "# Section 8 – Lecture 2: Designing Reliable Agent Flows using LangGraph"
      ]
     },
     {
      "cell_type": "markdown",
      "id": "b4c78ff3",
      "metadata": {},
      "source": [
       "## 🧠 What You’ll Learn\n",
       "- How to design a multi-step AI agent flow using LangGraph\n",
       "- Add nodes and transitions to build a complete workflow\n",
       "- Understand the benefits of deterministic branching and control"
      ]
     },
     {
      "cell_type": "markdown",
      "id": "05f1e8e4",
      "metadata": {},
      "source": [
       "## ✅ Step 1: Define a State Class for Multi-step Workflow"
      ]
     },
     {
      "cell_type": "code",
      "execution_count": null,
      "id": "ec4e4238",
      "metadata": {},
      "outputs": [],
      "source": [
       "class WorkflowState:\n",
       "    def __init__(self, data, step=0):\n",
       "        self.data = data\n",
       "        self.step = step"
      ]
     },
     {
      "cell_type": "markdown",
      "id": "56fb7aa9",
      "metadata": {},
      "source": [
       "## ✅ Step 2: Create LangGraph Nodes (Functions)"
      ]
     },
     {
      "cell_type": "code",
      "execution_count": null,
      "id": "23cd94c1",
      "metadata": {},
      "outputs": [],
      "source": [
       "def preprocess(state):\n",
       "    print(\"[1] Preprocessing input data...\")\n",
       "    state.data = state.data.strip().lower()\n",
       "    return state\n",
       "\n",
       "def analyze(state):\n",
       "    print(\"[2] Performing data analysis...\")\n",
       "    state.data = f\"Analysis of '{state.data}' complete.\"\n",
       "    return state\n",
       "\n",
       "def summarize(state):\n",
       "    print(\"[3] Summarizing results...\")\n",
       "    state.data = f\"Summary: {state.data}\"\n",
       "    return state"
      ]
     },
     {
      "cell_type": "markdown",
      "id": "229f58e0",
      "metadata": {},
      "source": [
       "## ✅ Step 3: Build and Run the LangGraph Workflow"
      ]
     },
     {
      "cell_type": "code",
      "execution_count": null,
      "id": "0f4e6061",
      "metadata": {},
      "outputs": [],
      "source": [
       "from langgraph.graph import StateGraph\n",
       "\n",
       "builder = StateGraph(state_type=WorkflowState)\n",
       "builder.add_node(\"preprocess\", preprocess)\n",
       "builder.add_node(\"analyze\", analyze)\n",
       "builder.add_node(\"summarize\", summarize)\n",
       "builder.set_entry_point(\"preprocess\")\n",
       "builder.add_edge(\"preprocess\", \"analyze\")\n",
       "builder.add_edge(\"analyze\", \"summarize\")\n",
       "\n",
       "workflow_graph = builder.compile()\n",
       "\n",
       "initial_state = WorkflowState(data=\"   This is a TEST   \")\n",
       "final_state = workflow_graph.invoke(initial_state)\n",
       "print(\"\\n✅ Final Workflow Output:\")\n",
       "print(final_state.data)"
      ]
     },
     {
      "cell_type": "markdown",
      "id": "76ec2805",
      "metadata": {},
      "source": [
       "## ✅ Summary\n",
       "- You designed a step-by-step agent workflow\n",
       "- Each node performed a specific action on the state\n",
       "- The flow was deterministic and reliable using LangGraph"
      ]
     }
    ],
    "metadata": {},
    "nbformat": 4,
    "nbformat_minor": 5
   }