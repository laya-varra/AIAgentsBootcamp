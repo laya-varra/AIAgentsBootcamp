{
 "cells": [
  {
   "cell_type": "markdown",
   "id": "48af21d9",
   "metadata": {},
   "source": [
    "# 🛠️ Lecture 1: Creating and Integrating Custom Tools"
   ]
  },
  {
   "cell_type": "markdown",
   "id": "b3ab8d2e",
   "metadata": {},
   "source": [
    "In this lecture, we’ll go beyond built-in tools.\n",
    "\n",
    "You’ll learn how to create your own custom tool and integrate it into a LangChain workflow.\n",
    "\n",
    "Let’s build a simple tool: a calculator that adds two numbers."
   ]
  },
  {
   "cell_type": "markdown",
   "id": "5126cb6d",
   "metadata": {},
   "source": [
    "## 🔧 Step 1: Import Libraries and Setup"
   ]
  },
  {
   "cell_type": "code",
   "execution_count": 14,
   "id": "e28b3a8c",
   "metadata": {},
   "outputs": [],
   "source": [
    "from langchain_openai import ChatOpenAI\n",
    "from langchain.agents import initialize_agent, AgentType\n",
    "from langchain.tools import Tool\n",
    "from dotenv import load_dotenv\n",
    "import os\n",
    "\n",
    "load_dotenv()\n",
    "llm = ChatOpenAI(\n",
    "    temperature=0,\n",
    "    model=\"gpt-4\",\n",
    "    api_key=os.getenv(\"OPENAI_API_KEY\")\n",
    ")"
   ]
  },
  {
   "cell_type": "markdown",
   "id": "2543e223",
   "metadata": {},
   "source": [
    "## ➕ Step 2: Define a Custom Calculator Tool"
   ]
  },
  {
   "cell_type": "code",
   "execution_count": 15,
   "id": "bb75cbe8",
   "metadata": {},
   "outputs": [],
   "source": [
    "@tool\n",
    "def add_numbers(a: int, b: int) -> int:\n",
    "    \"\"\"Add two integers and return the result.\"\"\"\n",
    "    return a + b"
   ]
  },
  {
   "cell_type": "markdown",
   "id": "7c782673",
   "metadata": {},
   "source": [
    "## 🤖 Step 3: Integrate the Tool with a LangChain Agent"
   ]
  },
  {
   "cell_type": "code",
   "execution_count": 16,
   "id": "1d63c044",
   "metadata": {},
   "outputs": [
    {
     "name": "stdout",
     "output_type": "stream",
     "text": [
      "\n",
      "\n",
      "\u001b[1m> Entering new AgentExecutor chain...\u001b[0m\n",
      "\u001b[32;1m\u001b[1;3m\n",
      "Invoking: `add_numbers` with `{'a': 7, 'b': 5}`\n",
      "\n",
      "\n",
      "\u001b[0m\u001b[36;1m\u001b[1;3m12\u001b[0m\u001b[32;1m\u001b[1;3mThe sum of 7 and 5 is 12.\u001b[0m\n",
      "\n",
      "\u001b[1m> Finished chain.\u001b[0m\n",
      "{'input': 'Add 7 and 5.', 'output': 'The sum of 7 and 5 is 12.'}\n"
     ]
    }
   ],
   "source": [
    "# Initialize the agent\n",
    "agent = initialize_agent(\n",
    "    tools=[add_numbers],\n",
    "    llm=llm,\n",
    "    agent=AgentType.OPENAI_FUNCTIONS,\n",
    "    verbose=True\n",
    ")\n",
    "\n",
    "# Run a query\n",
    "response = agent.invoke(\"Add 7 and 5.\")\n",
    "print(response)\n"
   ]
  }
 ],
 "metadata": {
  "kernelspec": {
   "display_name": ".venv",
   "language": "python",
   "name": "python3"
  },
  "language_info": {
   "codemirror_mode": {
    "name": "ipython",
    "version": 3
   },
   "file_extension": ".py",
   "mimetype": "text/x-python",
   "name": "python",
   "nbconvert_exporter": "python",
   "pygments_lexer": "ipython3",
   "version": "3.11.9"
  }
 },
 "nbformat": 4,
 "nbformat_minor": 5
}
