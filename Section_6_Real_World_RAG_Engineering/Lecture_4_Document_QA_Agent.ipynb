{
 "cells": [
  {
   "cell_type": "markdown",
   "id": "60a2c64b",
   "metadata": {},
   "source": [
    "# 📘 Lecture 4: Hands-On Document Q&A Agent with LangChain\n",
    "\n",
    "In this notebook, we’ll build a fully functional **Document Q&A AI Agent** using LangChain, OpenAI, and FAISS.\n",
    "\n",
    "You'll learn to:\n",
    "- Load and index a `.txt` file\n",
    "- Use semantic search with embeddings\n",
    "- Build a Retrieval-Augmented Generation (RAG) pipeline\n",
    "- Ask multiple questions and retrieve answers with sources\n",
    "\n",
    "Let's get started!"
   ]
  },
  {
   "cell_type": "markdown",
   "id": "5d78be25",
   "metadata": {},
   "source": [
    "## 🔧 Step 1: Import Required Libraries"
   ]
  },
  {
   "cell_type": "code",
   "execution_count": 3,
   "id": "63ceb0ee",
   "metadata": {},
   "outputs": [],
   "source": [
    "from langchain_community.vectorstores import FAISS\n",
    "from langchain_openai import ChatOpenAI, OpenAIEmbeddings\n",
    "from langchain.chains import RetrievalQA\n",
    "from langchain.document_loaders import TextLoader\n",
    "from langchain.text_splitter import CharacterTextSplitter\n",
    "from dotenv import load_dotenv\n",
    "import os"
   ]
  },
  {
   "cell_type": "markdown",
   "id": "74707591",
   "metadata": {},
   "source": [
    "## 🔐 Step 2: Load Environment Variables and Set Up LLM"
   ]
  },
  {
   "cell_type": "code",
   "execution_count": 4,
   "id": "43192bc8",
   "metadata": {},
   "outputs": [],
   "source": [
    "load_dotenv()\n",
    "\n",
    "llm = ChatOpenAI(\n",
    "    temperature=0,\n",
    "    model=\"gpt-4\",\n",
    "    api_key=os.getenv(\"OPENAI_API_KEY\")\n",
    ")\n",
    "\n",
    "embeddings = OpenAIEmbeddings(\n",
    "    api_key=os.getenv(\"OPENAI_API_KEY\")\n",
    ")"
   ]
  },
  {
   "cell_type": "markdown",
   "id": "68d00f38",
   "metadata": {},
   "source": [
    "## 📄 Step 3: Load the Sample FAQ Document and Split into Chunks"
   ]
  },
  {
   "cell_type": "code",
   "execution_count": 10,
   "id": "6e37dbb6",
   "metadata": {},
   "outputs": [],
   "source": [
    "loader = TextLoader(\"Section_6_Custom_Tools_RAG/sample_faq.txt\", encoding=\"utf-8\")\n",
    "documents = loader.load()\n",
    "\n",
    "text_splitter = CharacterTextSplitter(chunk_size=300, chunk_overlap=50)\n",
    "docs = text_splitter.split_documents(documents)"
   ]
  },
  {
   "cell_type": "markdown",
   "id": "33d46e85",
   "metadata": {},
   "source": [
    "## 🧠 Step 4: Convert Text to Vectors and Index with FAISS"
   ]
  },
  {
   "cell_type": "code",
   "execution_count": 11,
   "id": "5c6151ba",
   "metadata": {},
   "outputs": [],
   "source": [
    "vectorstore = FAISS.from_documents(docs, embeddings)"
   ]
  },
  {
   "cell_type": "markdown",
   "id": "8aad8295",
   "metadata": {},
   "source": [
    "## 🛠️ Step 5: Setup Retrieval-Augmented QA Chain"
   ]
  },
  {
   "cell_type": "code",
   "execution_count": 12,
   "id": "0ca9639f",
   "metadata": {},
   "outputs": [],
   "source": [
    "qa_chain = RetrievalQA.from_chain_type(\n",
    "    llm=llm,\n",
    "    retriever=vectorstore.as_retriever(search_type=\"similarity\", search_kwargs={\"k\": 2}),\n",
    "    return_source_documents=True\n",
    ")"
   ]
  },
  {
   "cell_type": "markdown",
   "id": "6e90b83c",
   "metadata": {},
   "source": [
    "## ❓ Step 6: Ask Multiple Questions and Display Answers with Sources"
   ]
  },
  {
   "cell_type": "code",
   "execution_count": 13,
   "id": "cf7a9af8",
   "metadata": {},
   "outputs": [
    {
     "name": "stdout",
     "output_type": "stream",
     "text": [
      "\n",
      "❓ Question: What is the refund policy?\n",
      "✅ Answer: The refund policy offers a 30-day money-back guarantee on all plans. If you're not satisfied, you can contact support within 30 days for a full refund.\n",
      "📚 Source Document Snippets:\n",
      " - Refund Policy:\n",
      "We offer a 30-day money-back guarantee on all our plans. If you're not satisfied, contact support within 30 days for a full refund.\n",
      "\n",
      "Sh ...\n",
      " - Subscription Cancellation:\n",
      "Customers can cancel their subscription anytime through the account settings page. No additional charges will apply after c ...\n",
      "\n",
      "❓ Question: How long does shipping usually take?\n",
      "✅ Answer: Shipping typically takes between 5-7 business days, depending on your location. International orders may take longer.\n",
      "📚 Source Document Snippets:\n",
      " - Refund Policy:\n",
      "We offer a 30-day money-back guarantee on all our plans. If you're not satisfied, contact support within 30 days for a full refund.\n",
      "\n",
      "Sh ...\n",
      " - Subscription Cancellation:\n",
      "Customers can cancel their subscription anytime through the account settings page. No additional charges will apply after c ...\n",
      "\n",
      "❓ Question: Can customers cancel their subscription anytime?\n",
      "✅ Answer: Yes, customers can cancel their subscription anytime through the account settings page.\n",
      "📚 Source Document Snippets:\n",
      " - Subscription Cancellation:\n",
      "Customers can cancel their subscription anytime through the account settings page. No additional charges will apply after c ...\n",
      " - Refund Policy:\n",
      "We offer a 30-day money-back guarantee on all our plans. If you're not satisfied, contact support within 30 days for a full refund.\n",
      "\n",
      "Sh ...\n",
      "\n",
      "❓ Question: What are the benefits of the premium plan?\n",
      "✅ Answer: The premium plan includes priority customer support, access to exclusive webinars, and a dedicated success manager for enterprise users.\n",
      "📚 Source Document Snippets:\n",
      " - Premium Plan Benefits:\n",
      "The premium plan includes priority customer support, access to exclusive webinars, and a dedicated success manager for enterpri ...\n",
      " - Refund Policy:\n",
      "We offer a 30-day money-back guarantee on all our plans. If you're not satisfied, contact support within 30 days for a full refund.\n",
      "\n",
      "Sh ...\n"
     ]
    }
   ],
   "source": [
    "questions = [\n",
    "    \"What is the refund policy?\",\n",
    "    \"How long does shipping usually take?\",\n",
    "    \"Can customers cancel their subscription anytime?\",\n",
    "    \"What are the benefits of the premium plan?\"\n",
    "]\n",
    "\n",
    "for q in questions:\n",
    "    response = qa_chain.invoke({\"query\": q})\n",
    "    print(f\"\\n❓ Question: {q}\")\n",
    "    print(f\"✅ Answer: {response['result']}\")\n",
    "    print(\"📚 Source Document Snippets:\")\n",
    "    for doc in response[\"source_documents\"]:\n",
    "        print(\" -\", doc.page_content[:150], \"...\")"
   ]
  },
  {
   "cell_type": "markdown",
   "id": "5c29e617",
   "metadata": {},
   "source": [
    "## ✅ Wrap-Up\n",
    "\n",
    "You've now built a real document Q&A system using:\n",
    "- GPT-4 with LangChain\n",
    "- FAISS for fast vector retrieval\n",
    "- TextLoader and TextSplitter for document prep\n",
    "\n",
    "This is a powerful template for internal knowledge bots, helpdesk assistants, and intelligent agents.\n",
    "\n",
    "Next, you’ll learn to enhance this pipeline using tools and advanced workflows."
   ]
  }
 ],
 "metadata": {
  "kernelspec": {
   "display_name": ".venv",
   "language": "python",
   "name": "python3"
  },
  "language_info": {
   "codemirror_mode": {
    "name": "ipython",
    "version": 3
   },
   "file_extension": ".py",
   "mimetype": "text/x-python",
   "name": "python",
   "nbconvert_exporter": "python",
   "pygments_lexer": "ipython3",
   "version": "3.11.9"
  }
 },
 "nbformat": 4,
 "nbformat_minor": 5
}
