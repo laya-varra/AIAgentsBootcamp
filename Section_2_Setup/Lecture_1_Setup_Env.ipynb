{
 "cells": [
  {
   "cell_type": "markdown",
   "id": "cd22ef2f",
   "metadata": {},
   "source": [
    "# Lecture 1: Setting up Python & Development Environment"
   ]
  },
  {
   "cell_type": "markdown",
   "id": "cdd97608",
   "metadata": {},
   "source": [
    "\n",
    "Welcome to **Lecture 1** of the *AI Agents Bootcamp: Build and Deploy Workflow Automation*!  \n",
    "In this notebook, you'll set up everything needed to start building your AI Agents — including Python, virtual environments, required libraries, and Jupyter Notebooks.\n",
    "\n",
    "We'll walk through the following steps:\n",
    "1. ✅ Install Python\n",
    "2. ✅ Create a virtual environment\n",
    "3. ✅ Install LangChain, Langflow, and Jupyter\n",
    "4. ✅ Install dotenv and setup `.env` securely\n",
    "5. ✅ Launch VS Code and open your notebook\n"
   ]
  },
  {
   "cell_type": "markdown",
   "id": "f0415896",
   "metadata": {},
   "source": [
    "\n",
    "### 🐍 Step 1: Install Python\n",
    "\n",
    "For Langflow to work correctly, make sure you're using Python 3.11 (Langflow currently has compatibility issues with Python 3.12).\n",
    "\n",
    "📥 Download Python 3.11:\n",
    "https://www.python.org/downloads/release/python-3110/\n",
    "\n",
    "Make sure to check ✅ **Add Python to PATH** during installation!\n",
    "\n",
    "✅ After installing, verify with:"
   ]
  },
  {
   "cell_type": "code",
   "execution_count": null,
   "id": "85925913",
   "metadata": {},
   "outputs": [],
   "source": [
    "!python --version"
   ]
  },
  {
   "cell_type": "markdown",
   "id": "f58895af",
   "metadata": {},
   "source": [
    "### 🛠️ Step 2: Install UV"
   ]
  },
  {
   "cell_type": "code",
   "execution_count": null,
   "id": "d433ef5c",
   "metadata": {},
   "outputs": [],
   "source": [
    "\n",
    "# Windows\n",
    "!pip install uv\n",
    "# or use the one-liner below if pip fails:\n",
    "# !curl -Ls https://astral.sh/uv/install.sh | sh\n",
    "\n",
    "!uv --version"
   ]
  },
  {
   "cell_type": "markdown",
   "id": "33da15f2",
   "metadata": {},
   "source": [
    "### 🛠️ Step 3: Create and Activate a Virtual Environment (with `uv`)"
   ]
  },
  {
   "cell_type": "code",
   "execution_count": null,
   "id": "ec5590c9",
   "metadata": {},
   "outputs": [],
   "source": [
    "#!uv venv .venv\n",
    "# Then activate it using the appropriate command based on your OS\n",
    "# Windows\n",
    "#!source .venv/bin/activate\n",
    "# MacOS/Linux\n",
    "#!source .venv/bin/activate"
   ]
  },
  {
   "cell_type": "markdown",
   "id": "1fe33a7f",
   "metadata": {},
   "source": [
    "### 📦 Step 4: Add Required Packages\n",
    "\n",
    "Create a `requirements.txt` file with the following content:\n",
    "\n",
    "```\n",
    "langflow==1.2.0\n",
    "langchain==0.3.10\n",
    "openai==1.68.2\n",
    "jupyter==1.1.1\n",
    "python-dotenv==1.0.1\n",
    "ipykernel==6.29.5\n",
    "```\n",
    "\n",
    "Then run:"
   ]
  },
  {
   "cell_type": "code",
   "execution_count": null,
   "id": "8946b3b8",
   "metadata": {},
   "outputs": [],
   "source": [
    "!uv pip install -r ../requirements.txt"
   ]
  },
  {
   "cell_type": "markdown",
   "id": "ac259d2a",
   "metadata": {},
   "source": [
    "### 🔐 Step 5: Setup OpenAI API Key"
   ]
  },
  {
   "cell_type": "markdown",
   "id": "66c995f4",
   "metadata": {},
   "source": [
    "\n",
    "Now create a file named `.env` in your **project root folder** (not inside the notebook folder).  \n",
    "Paste this inside the `.env` file:\n",
    "\n",
    "```\n",
    "OPENAI_API_KEY=sk-XXXXXXXXXXXXXXXXXXXXXXXXXXXX\n",
    "```\n",
    "\n",
    "✅ Replace the placeholder with your actual API key from [https://platform.openai.com/account/api-keys](https://platform.openai.com/account/api-keys)\n",
    "\n",
    "Never share this key publicly!\n"
   ]
  },
  {
   "cell_type": "markdown",
   "id": "0b8557d4",
   "metadata": {},
   "source": [
    "### ✅ Step 6: Load the OpenAI API Key from `.env`"
   ]
  },
  {
   "cell_type": "code",
   "execution_count": null,
   "id": "fe622906",
   "metadata": {},
   "outputs": [],
   "source": [
    "\n",
    "from dotenv import load_dotenv\n",
    "import os\n",
    "\n",
    "load_dotenv()  # Load environment variables from .env file\n",
    "\n",
    "openai_api_key = os.getenv(\"OPENAI_API_KEY\")\n",
    "print(\"API Key Loaded:\", \"Yes\" if openai_api_key else \"No\")\n"
   ]
  },
  {
   "cell_type": "markdown",
   "id": "42f15d26",
   "metadata": {},
   "source": [
    "\n",
    "### ✅ You’re all set!\n",
    "\n",
    "You now have:\n",
    "- Python and UV installed\n",
    "- A virtual environment ready\n",
    "- Langflow, LangChain, Jupyter, and dotenv installed\n",
    "- OpenAI key securely configured\n",
    "\n",
    "Next: We’ll dive into **LangChain** and see how to build smart agents. 🚀\n"
   ]
  }
 ],
 "metadata": {
  "kernelspec": {
   "display_name": ".venv",
   "language": "python",
   "name": "python3"
  },
  "language_info": {
   "codemirror_mode": {
    "name": "ipython",
    "version": 3
   },
   "file_extension": ".py",
   "mimetype": "text/x-python",
   "name": "python",
   "nbconvert_exporter": "python",
   "pygments_lexer": "ipython3",
   "version": "3.11.9"
  }
 },
 "nbformat": 4,
 "nbformat_minor": 5
}
