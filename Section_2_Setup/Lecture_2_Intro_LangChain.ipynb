{
 "cells": [
  {
   "cell_type": "markdown",
   "id": "9382a944",
   "metadata": {},
   "source": [
    "# Lecture 2: Introduction to LangChain"
   ]
  },
  {
   "cell_type": "markdown",
   "id": "d0f5f827",
   "metadata": {},
   "source": [
    "\n",
    "In this lecture, we explore **LangChain**, a powerful framework that simplifies the creation of AI agents using large language models like **GPT-4**.  \n",
    "LangChain helps agents understand instructions, remember past actions, and connect to external tools like APIs or databases.\n",
    "\n",
    "We'll start with a simple example using `PromptTemplate`.\n"
   ]
  },
  {
   "cell_type": "code",
   "execution_count": 1,
   "id": "01d229c2",
   "metadata": {},
   "outputs": [],
   "source": [
    "from langchain.prompts import PromptTemplate"
   ]
  },
  {
   "cell_type": "code",
   "execution_count": 2,
   "id": "3f8e05c1",
   "metadata": {},
   "outputs": [],
   "source": [
    "\n",
    "prompt = PromptTemplate(\n",
    "    input_variables=[\"text\"],\n",
    "    template=\"Summarize this: {text}\"\n",
    ")"
   ]
  },
  {
   "cell_type": "code",
   "execution_count": 3,
   "id": "ab2caf45",
   "metadata": {},
   "outputs": [
    {
     "name": "stdout",
     "output_type": "stream",
     "text": [
      "Summarize this: AI agents help automate tasks.\n"
     ]
    }
   ],
   "source": [
    "print(prompt.format(text=\"AI agents help automate tasks.\"))"
   ]
  },
  {
   "cell_type": "markdown",
   "id": "50361e35",
   "metadata": {},
   "source": [
    "\n",
    "### 🧠 Explanation\n",
    "\n",
    "- `PromptTemplate` is used to define a reusable instruction format for GPT-based models.\n",
    "- The `input_variables` field defines what dynamic input we’ll pass.\n",
    "- The `template` gives the format in which the final prompt will be structured.\n",
    "\n",
    "In this example, it will output:\n",
    "\n",
    "```\n",
    "Summarize this: AI agents help automate tasks.\n",
    "```\n",
    "\n",
    "This is the kind of instruction we send to GPT-4 using LangChain.\n"
   ]
  },
  {
   "cell_type": "markdown",
   "id": "1d199262",
   "metadata": {},
   "source": [
    "\n",
    "### ✅ What's Next?\n",
    "\n",
    "In the next lecture, we'll explore **Langflow**, a no-code drag-and-drop visual interface to create AI agent workflows that integrates seamlessly with LangChain.\n",
    "\n",
    "Let’s continue!\n"
   ]
  }
 ],
 "metadata": {
  "kernelspec": {
   "display_name": ".venv",
   "language": "python",
   "name": "python3"
  },
  "language_info": {
   "codemirror_mode": {
    "name": "ipython",
    "version": 3
   },
   "file_extension": ".py",
   "mimetype": "text/x-python",
   "name": "python",
   "nbconvert_exporter": "python",
   "pygments_lexer": "ipython3",
   "version": "3.12.4"
  }
 },
 "nbformat": 4,
 "nbformat_minor": 5
}
