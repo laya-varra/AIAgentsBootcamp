{
 "cells": [
  {
   "cell_type": "markdown",
   "id": "8cfe533d",
   "metadata": {},
   "source": [
    "# 📄 Lecture 4: Hands-on – Build a Document-Based Q&A AI Agent"
   ]
  },
  {
   "cell_type": "markdown",
   "id": "329bd33b",
   "metadata": {},
   "source": [
    "In this hands-on lecture, we’ll build a complete Q&A AI agent that answers from a document,\n",
    "combining everything we’ve learned—LangChain, RAG, GPT-4, and custom tools.\n",
    "\n",
    "Let’s get started!"
   ]
  },
  {
   "cell_type": "markdown",
   "id": "a6e049a5",
   "metadata": {},
   "source": [
    "## 🔧 Step 1: Import Libraries and Setup"
   ]
  },
  {
   "cell_type": "code",
   "execution_count": null,
   "id": "877d5ae0",
   "metadata": {},
   "outputs": [],
   "source": [
    "from langchain.llms import OpenAI\n",
    "from langchain.chains import RetrievalQA\n",
    "from langchain.vectorstores import FAISS\n",
    "from langchain.embeddings import OpenAIEmbeddings\n",
    "from langchain.tools import tool\n",
    "from dotenv import load_dotenv\n",
    "import os\n",
    "\n",
    "load_dotenv()\n",
    "llm = OpenAI(api_key=os.getenv(\"OPENAI_API_KEY\"))\n",
    "embeddings = OpenAIEmbeddings(api_key=os.getenv(\"OPENAI_API_KEY\"))"
   ]
  },
  {
   "cell_type": "markdown",
   "id": "85ee275a",
   "metadata": {},
   "source": [
    "## 🧰 Step 2: Add a Custom Tool"
   ]
  },
  {
   "cell_type": "code",
   "execution_count": null,
   "id": "1c27d617",
   "metadata": {},
   "outputs": [],
   "source": [
    "@tool\n",
    "def word_count(text: str) -> int:\n",
    "    return len(text.split())"
   ]
  },
  {
   "cell_type": "markdown",
   "id": "2f4534f1",
   "metadata": {},
   "source": [
    "## 📚 Step 3: Create and Index Documents"
   ]
  },
  {
   "cell_type": "code",
   "execution_count": null,
   "id": "77ab88dc",
   "metadata": {},
   "outputs": [],
   "source": [
    "docs = [\"Our company started in 2020. We focus on AI solutions.\"]\n",
    "vector_store = FAISS.from_texts(docs, embeddings)"
   ]
  },
  {
   "cell_type": "markdown",
   "id": "1487c48b",
   "metadata": {},
   "source": [
    "## 🔍 Step 4: Ask Questions Using RAG and the Custom Tool"
   ]
  },
  {
   "cell_type": "code",
   "execution_count": null,
   "id": "b45772bc",
   "metadata": {},
   "outputs": [],
   "source": [
    "qa = RetrievalQA.from_chain_type(\n",
    "    llm=llm,\n",
    "    chain_type=\"stuff\",\n",
    "    retriever=vector_store.as_retriever()\n",
    ")\n",
    "# First question: factual\n",
    "print(qa.run(\"When did the company start?\"))\n",
    "\n",
    "# Second question: use custom tool directly\n",
    "print(f\"Document word count: {word_count(docs[0])}\")"
   ]
  }
 ],
 "metadata": {},
 "nbformat": 4,
 "nbformat_minor": 5
}
