{
 "cells": [
  {
   "cell_type": "markdown",
   "id": "7dd1a3f4",
   "metadata": {},
   "source": [
    "# Lecture 4 Doc QA Agent\n",
    "\n",
    "Welcome to the **Lecture 4 Doc QA Agent** notebook of the *AI Agents Bootcamp* course.\n",
    "\n",
    "---\n",
    "\n",
    "## 🧠 What You’ll Learn\n",
    "- [ ] Key concepts and code demonstrations covered in this lecture.\n",
    "- [ ] Hands-on examples using LangChain, GPT-4, and Langflow.\n",
    "\n",
    "---\n",
    "\n",
    "## 🧪 Try it Yourself\n",
    "Feel free to modify and run the code cells below to explore how it works.\n",
    "\n",
    "---\n",
    "\n",
    "## 📌 Notes\n",
    "Use this space to jot down your learnings, errors, and experiments.\n"
   ]
  }
 ],
 "metadata": {},
 "nbformat": 4,
 "nbformat_minor": 5
}
