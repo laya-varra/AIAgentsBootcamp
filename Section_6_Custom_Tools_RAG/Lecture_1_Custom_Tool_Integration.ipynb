{
 "cells": [
  {
   "cell_type": "markdown",
   "id": "48af21d9",
   "metadata": {},
   "source": [
    "# 🛠️ Lecture 1: Creating and Integrating Custom Tools"
   ]
  },
  {
   "cell_type": "markdown",
   "id": "b3ab8d2e",
   "metadata": {},
   "source": [
    "In this lecture, we’ll go beyond built-in tools.\n",
    "\n",
    "You’ll learn how to create your own custom tool and integrate it into a LangChain workflow.\n",
    "\n",
    "Let’s build a simple tool: a calculator that adds two numbers."
   ]
  },
  {
   "cell_type": "markdown",
   "id": "5126cb6d",
   "metadata": {},
   "source": [
    "## 🔧 Step 1: Import Libraries and Setup"
   ]
  },
  {
   "cell_type": "code",
   "execution_count": null,
   "id": "e28b3a8c",
   "metadata": {},
   "outputs": [],
   "source": [
    "from langchain.llms import OpenAI\n",
    "from langchain.chains import ConversationChain\n",
    "from langchain.tools import tool\n",
    "from dotenv import load_dotenv\n",
    "import os\n",
    "\n",
    "load_dotenv()\n",
    "llm = OpenAI(api_key=os.getenv(\"OPENAI_API_KEY\"))"
   ]
  },
  {
   "cell_type": "markdown",
   "id": "2543e223",
   "metadata": {},
   "source": [
    "## ➕ Step 2: Define a Custom Calculator Tool"
   ]
  },
  {
   "cell_type": "code",
   "execution_count": null,
   "id": "bb75cbe8",
   "metadata": {},
   "outputs": [],
   "source": [
    "@tool\n",
    "def add_numbers(a: int, b: int) -> int:\n",
    "    return a + b"
   ]
  },
  {
   "cell_type": "markdown",
   "id": "7c782673",
   "metadata": {},
   "source": [
    "## 🤖 Step 3: Integrate the Tool with a LangChain Agent"
   ]
  },
  {
   "cell_type": "code",
   "execution_count": null,
   "id": "1d63c044",
   "metadata": {},
   "outputs": [],
   "source": [
    "agent = ConversationChain(llm=llm, tools=[add_numbers])\n",
    "print(agent.run(\"Add 7 and 5.\"))"
   ]
  }
 ],
 "metadata": {},
 "nbformat": 4,
 "nbformat_minor": 5
}
