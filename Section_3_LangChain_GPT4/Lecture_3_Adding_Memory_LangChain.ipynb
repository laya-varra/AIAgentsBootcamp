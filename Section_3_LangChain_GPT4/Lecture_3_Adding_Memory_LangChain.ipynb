{
 "cells": [
  {
   "cell_type": "markdown",
   "id": "469365b6",
   "metadata": {},
   "source": [
    "# 🧠 Lecture 3: Adding Memory to Agents with LangChain"
   ]
  },
  {
   "cell_type": "markdown",
   "id": "63477f50",
   "metadata": {},
   "source": [
    "In this notebook, we’ll explore how to add **memory** to AI agents using LangChain.\n",
    "Memory allows your agents to remember past conversations, making them more interactive and intelligent."
   ]
  },
  {
   "cell_type": "markdown",
   "id": "09d9c02e",
   "metadata": {},
   "source": [
    "## 🔐 Step 1: Load OpenAI API Key"
   ]
  },
  {
   "cell_type": "code",
   "execution_count": null,
   "id": "0ead18b0",
   "metadata": {},
   "outputs": [],
   "source": [
    "from dotenv import load_dotenv\n",
    "import os\n",
    "\n",
    "load_dotenv()\n",
    "openai_api_key = os.getenv(\"OPENAI_API_KEY\")"
   ]
  },
  {
   "cell_type": "markdown",
   "id": "21f694f7",
   "metadata": {},
   "source": [
    "## 📦 Step 2: Import LLM and ConversationChain"
   ]
  },
  {
   "cell_type": "code",
   "execution_count": null,
   "id": "0e2297b7",
   "metadata": {},
   "outputs": [],
   "source": [
    "from langchain.llms import OpenAI\n",
    "from langchain.chains import ConversationChain"
   ]
  },
  {
   "cell_type": "markdown",
   "id": "35c277d6",
   "metadata": {},
   "source": [
    "## 🧠 Step 3: Initialize the LLM"
   ]
  },
  {
   "cell_type": "code",
   "execution_count": null,
   "id": "88bafb19",
   "metadata": {},
   "outputs": [],
   "source": [
    "llm = OpenAI(api_key=openai_api_key)"
   ]
  },
  {
   "cell_type": "markdown",
   "id": "0c289682",
   "metadata": {},
   "source": [
    "## 🔁 Step 4: Create a ConversationChain"
   ]
  },
  {
   "cell_type": "code",
   "execution_count": null,
   "id": "92493094",
   "metadata": {},
   "outputs": [],
   "source": [
    "chain = ConversationChain(llm=llm)"
   ]
  },
  {
   "cell_type": "markdown",
   "id": "dc3032d0",
   "metadata": {},
   "source": [
    "## 💬 Step 5: Try out the memory"
   ]
  },
  {
   "cell_type": "code",
   "execution_count": null,
   "id": "b075bb7a",
   "metadata": {},
   "outputs": [],
   "source": [
    "print(chain.run(\"My name is Alex.\"))"
   ]
  },
  {
   "cell_type": "code",
   "execution_count": null,
   "id": "3e101ed4",
   "metadata": {},
   "outputs": [],
   "source": [
    "print(chain.run(\"What’s my name?\"))"
   ]
  }
 ],
 "metadata": {},
 "nbformat": 4,
 "nbformat_minor": 5
}
