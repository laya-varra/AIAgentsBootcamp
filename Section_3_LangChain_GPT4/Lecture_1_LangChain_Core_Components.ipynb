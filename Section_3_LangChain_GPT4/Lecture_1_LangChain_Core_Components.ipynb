{
 "cells": [
  {
   "cell_type": "markdown",
   "id": "692d32bc",
   "metadata": {},
   "source": [
    "# 🧱 Lecture 1: LangChain Deep Dive – Core Components"
   ]
  },
  {
   "cell_type": "markdown",
   "id": "db4271ff",
   "metadata": {},
   "source": [
    "In this notebook, we’ll take a deeper look at the **core components** of LangChain:\n",
    "- Prompt Templates\n",
    "- Language Models (LLMs)\n",
    "- Chains\n",
    "\n",
    "These are the building blocks behind every intelligent AI agent."
   ]
  },
  {
   "cell_type": "markdown",
   "id": "4a147da2",
   "metadata": {},
   "source": [
    "## 🔐 Step 1: Load OpenAI API Key"
   ]
  },
  {
   "cell_type": "code",
   "execution_count": null,
   "id": "09d98d28",
   "metadata": {},
   "outputs": [],
   "source": [
    "from dotenv import load_dotenv\n",
    "import os\n",
    "\n",
    "load_dotenv()\n",
    "openai_api_key = os.getenv(\"OPENAI_API_KEY\")"
   ]
  },
  {
   "cell_type": "markdown",
   "id": "59ed0425",
   "metadata": {},
   "source": [
    "## 📦 Step 2: Import PromptTemplate and OpenAI LLM"
   ]
  },
  {
   "cell_type": "code",
   "execution_count": null,
   "id": "26782f86",
   "metadata": {},
   "outputs": [],
   "source": [
    "from langchain.prompts import PromptTemplate\n",
    "from langchain.llms import OpenAI"
   ]
  },
  {
   "cell_type": "markdown",
   "id": "1438b1f8",
   "metadata": {},
   "source": [
    "## ✏️ Step 3: Create a Prompt Template"
   ]
  },
  {
   "cell_type": "code",
   "execution_count": null,
   "id": "a54b2aea",
   "metadata": {},
   "outputs": [],
   "source": [
    "prompt = PromptTemplate(\n",
    "    input_variables=[\"text\"],\n",
    "    template=\"Explain this in simple terms: {text}\"\n",
    ")"
   ]
  },
  {
   "cell_type": "markdown",
   "id": "82ba93cd",
   "metadata": {},
   "source": [
    "## 🔗 Step 4: Create a LangChain Pipeline (Prompt → GPT-4)"
   ]
  },
  {
   "cell_type": "code",
   "execution_count": null,
   "id": "0d78a83d",
   "metadata": {},
   "outputs": [],
   "source": [
    "llm = OpenAI(api_key=openai_api_key)\n",
    "chain = prompt | llm"
   ]
  },
  {
   "cell_type": "markdown",
   "id": "e100d543",
   "metadata": {},
   "source": [
    "## 🚀 Step 5: Run the Agent with Sample Input"
   ]
  },
  {
   "cell_type": "code",
   "execution_count": null,
   "id": "989aeb6f",
   "metadata": {},
   "outputs": [],
   "source": [
    "response = chain.invoke({\"text\": \"Artificial Intelligence\"})\n",
    "print(\"Response:\", response)"
   ]
  }
 ],
 "metadata": {},
 "nbformat": 4,
 "nbformat_minor": 5
}
