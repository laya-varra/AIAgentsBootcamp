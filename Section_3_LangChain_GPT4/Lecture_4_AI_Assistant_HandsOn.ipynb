{
 "cells": [
  {
   "cell_type": "markdown",
   "id": "44b5d3e2",
   "metadata": {},
   "source": [
    "# 🤖 Lecture 4: Hands-on – Build an AI Assistant"
   ]
  },
  {
   "cell_type": "markdown",
   "id": "95b74b29",
   "metadata": {},
   "source": [
    "In this notebook, you’ll build your first real AI Assistant.\n",
    "It will remember your name and answer questions using memory and structured prompts."
   ]
  },
  {
   "cell_type": "markdown",
   "id": "cf177069",
   "metadata": {},
   "source": [
    "## 🔐 Step 1: Load OpenAI API Key"
   ]
  },
  {
   "cell_type": "code",
   "execution_count": null,
   "id": "1fd73bd2",
   "metadata": {},
   "outputs": [],
   "source": [
    "from dotenv import load_dotenv\n",
    "import os\n",
    "\n",
    "load_dotenv()\n",
    "openai_api_key = os.getenv(\"OPENAI_API_KEY\")"
   ]
  },
  {
   "cell_type": "markdown",
   "id": "7049c9b8",
   "metadata": {},
   "source": [
    "## 📦 Step 2: Import LangChain Components"
   ]
  },
  {
   "cell_type": "code",
   "execution_count": null,
   "id": "5b90549b",
   "metadata": {},
   "outputs": [],
   "source": [
    "from langchain.llms import OpenAI\n",
    "from langchain.prompts import PromptTemplate\n",
    "from langchain.chains import ConversationChain"
   ]
  },
  {
   "cell_type": "markdown",
   "id": "c2d94353",
   "metadata": {},
   "source": [
    "## ✍️ Step 3: Define a Friendly Prompt Template"
   ]
  },
  {
   "cell_type": "code",
   "execution_count": null,
   "id": "fcb0a11b",
   "metadata": {},
   "outputs": [],
   "source": [
    "prompt = PromptTemplate(\n",
    "    input_variables=[\"history\", \"input\"],\n",
    "    template=\"With this history: {history}, answer in a friendly tone: {input}\"\n",
    ")"
   ]
  },
  {
   "cell_type": "markdown",
   "id": "d539174b",
   "metadata": {},
   "source": [
    "## 🧠 Step 4: Create LLM + Memory Chain"
   ]
  },
  {
   "cell_type": "code",
   "execution_count": null,
   "id": "d7c56a17",
   "metadata": {},
   "outputs": [],
   "source": [
    "llm = OpenAI(api_key=openai_api_key)\n",
    "chain = ConversationChain(llm=llm, prompt=prompt)"
   ]
  },
  {
   "cell_type": "markdown",
   "id": "8501e3f7",
   "metadata": {},
   "source": [
    "## 💬 Step 5: Talk to your AI Assistant"
   ]
  },
  {
   "cell_type": "code",
   "execution_count": null,
   "id": "fd2ba8a3",
   "metadata": {},
   "outputs": [],
   "source": [
    "print(chain.run(\"Hi, I’m Sarah.\"))"
   ]
  },
  {
   "cell_type": "code",
   "execution_count": null,
   "id": "357ae79f",
   "metadata": {},
   "outputs": [],
   "source": [
    "print(chain.run(\"What’s my name?\"))"
   ]
  },
  {
   "cell_type": "code",
   "execution_count": null,
   "id": "bece73fe",
   "metadata": {},
   "outputs": [],
   "source": [
    "print(chain.run(\"What should I do today?\"))"
   ]
  }
 ],
 "metadata": {
  "kernelspec": {
   "display_name": ".venv",
   "language": "python",
   "name": "python3"
  },
  "language_info": {
   "name": "python",
   "version": "3.11.9"
  }
 },
 "nbformat": 4,
 "nbformat_minor": 5
}
