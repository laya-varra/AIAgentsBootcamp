{
 "cells": [
  {
   "cell_type": "markdown",
   "id": "01494b19",
   "metadata": {},
   "source": [
    "# 🤖 Lecture 2: What Are AI Agents?"
   ]
  },
  {
   "cell_type": "markdown",
   "id": "dabf97ad",
   "metadata": {},
   "source": [
    "\n",
    "In this lecture, we’ll explore what AI agents actually are — not just in theory, but in practical terms that will guide how you build them throughout this course.\n"
   ]
  },
  {
   "cell_type": "markdown",
   "id": "6b790532",
   "metadata": {},
   "source": [
    "## 🧠 What is an AI Agent?"
   ]
  },
  {
   "cell_type": "markdown",
   "id": "db0d4c18",
   "metadata": {},
   "source": [
    "\n",
    "An **AI Agent** is a system that:\n",
    "- Perceives its environment (via input)\n",
    "- Makes decisions (reasoning)\n",
    "- Takes action (with or without human input)\n",
    "\n",
    "Unlike traditional scripts or chatbots, agents can:\n",
    "- Use tools (APIs, databases)\n",
    "- Remember past interactions (memory)\n",
    "- Work autonomously toward a goal\n",
    "\n",
    "Think of an agent as a smart assistant that doesn’t just respond — it reasons, plans, and executes.\n"
   ]
  },
  {
   "cell_type": "markdown",
   "id": "af4d9b43",
   "metadata": {},
   "source": [
    "## 🧾 A Simple Example"
   ]
  },
  {
   "cell_type": "markdown",
   "id": "765dbb98",
   "metadata": {},
   "source": [
    "\n",
    "🧑‍💼 **Use case**: A personal travel planner agent.\n",
    "\n",
    "You say: “Plan a 3-day trip to Manali next month.”  \n",
    "The agent:\n",
    "1. Analyzes your query\n",
    "2. Checks the weather\n",
    "3. Books hotels and creates an itinerary\n",
    "4. Emails it to you\n",
    "\n",
    "All this is done without further prompts. That’s the power of agents.\n"
   ]
  },
  {
   "cell_type": "markdown",
   "id": "3c616019",
   "metadata": {},
   "source": [
    "## 🚀 Why Are They Important?"
   ]
  },
  {
   "cell_type": "markdown",
   "id": "39041171",
   "metadata": {},
   "source": [
    "\n",
    "- **Automation**: Save hours by removing repetitive tasks  \n",
    "- **Productivity**: Agents can work 24/7  \n",
    "- **Scalability**: Once built, they can serve hundreds or thousands  \n",
    "- **Monetization**: Agents can power real products — SaaS tools, internal bots, customer assistants\n",
    "\n",
    "In short, agents are the future of smart, context-aware software.\n"
   ]
  },
  {
   "cell_type": "markdown",
   "id": "108b13b4",
   "metadata": {},
   "source": [
    "## 📌 What’s Next"
   ]
  },
  {
   "cell_type": "markdown",
   "id": "f6b8e951",
   "metadata": {},
   "source": [
    "\n",
    "Next, we’ll explore real-world applications of AI agents — how companies and developers are using them today.\n",
    "\n",
    "See you in the next lecture!\n"
   ]
  }
 ],
 "metadata": {},
 "nbformat": 4,
 "nbformat_minor": 5
}
