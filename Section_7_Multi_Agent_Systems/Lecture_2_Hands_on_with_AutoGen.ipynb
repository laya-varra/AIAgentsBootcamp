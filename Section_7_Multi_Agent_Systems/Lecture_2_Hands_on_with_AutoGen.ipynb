{
    "cells": [
     {
      "cell_type": "markdown",
      "id": "f5224e97",
      "metadata": {},
      "source": [
       "# Lecture 2: Hands-on with AutoGen\n",
       "Section 7 – Multi-Agent Systems & Collaboration"
      ]
     },
     {
      "cell_type": "markdown",
      "id": "0f90d610",
      "metadata": {},
      "source": [
       "## 🧠 What You'll Learn\n",
       "- How to install and import AutoGen\n",
       "- Define multiple AI agents\n",
       "- Configure roles for each agent\n",
       "- Simulate agent communication"
      ]
     },
     {
      "cell_type": "markdown",
      "id": "9798d45c",
      "metadata": {},
      "source": [
       "## ✅ Step 1: Install AutoGen using uv (recommended)\n",
       "Make sure your `.venv` environment is activated from Section 2.\n",
       "\n",
       "To install AutoGen, run this in your terminal (not inside the notebook):"
      ]
     },
     {
      "cell_type": "code",
      "execution_count": null,
      "id": "ae00a3ae",
      "metadata": {},
      "outputs": [],
      "source": [
       "# uv pip install pyautogen"
      ]
     },
     {
      "cell_type": "markdown",
      "id": "8eacf45e",
      "metadata": {},
      "source": [
       "## ✅ Step 2: Import required packages"
      ]
     },
     {
      "cell_type": "code",
      "execution_count": null,
      "id": "c55687f1",
      "metadata": {},
      "outputs": [],
      "source": [
       "from autogen import AssistantAgent, UserProxyAgent\n",
       "import os\n",
       "from dotenv import load_dotenv"
      ]
     },
     {
      "cell_type": "markdown",
      "id": "5e46fd23",
      "metadata": {},
      "source": [
       "## ✅ Step 3: Load your OpenAI API key securely"
      ]
     },
     {
      "cell_type": "code",
      "execution_count": null,
      "id": "84564d75",
      "metadata": {},
      "outputs": [],
      "source": [
       "load_dotenv()\n",
       "api_key = os.getenv(\"OPENAI_API_KEY\")\n",
       "os.environ[\"OPENAI_API_KEY\"] = api_key"
      ]
     },
     {
      "cell_type": "markdown",
      "id": "a985535f",
      "metadata": {},
      "source": [
       "## ✅ Step 4: Define your agents"
      ]
     },
     {
      "cell_type": "code",
      "execution_count": null,
      "id": "05d6a501",
      "metadata": {},
      "outputs": [],
      "source": [
       "user_proxy = UserProxyAgent(name=\"User\")\n",
       "\n",
       "research_agent = AssistantAgent(\n",
       "    name=\"Researcher\",\n",
       "    system_message=\"You are a research assistant. Respond with factual information in concise format.\"\n",
       ")"
      ]
     },
     {
      "cell_type": "markdown",
      "id": "efcb480d",
      "metadata": {},
      "source": [
       "## ✅ Step 5: Simulate a simple conversation"
      ]
     },
     {
      "cell_type": "code",
      "execution_count": null,
      "id": "319da733",
      "metadata": {},
      "outputs": [],
      "source": [
       "print(\"Starting multi-agent conversation...\")\n",
       "response = user_proxy.initiate_chat(\n",
       "    receiver=research_agent,\n",
       "    message=\"What are the benefits of using multi-agent systems in AI workflows?\"\n",
       ")\n",
       "print(\"\\nResponse from Research Agent:\")\n",
       "print(response)"
      ]
     },
     {
      "cell_type": "markdown",
      "id": "0b0bb22e",
      "metadata": {},
      "source": [
       "## ✅ Summary\n",
       "- You created two basic agents\n",
       "- Simulated a message-passing interaction\n",
       "- This is the foundation for collaborative multi-agent workflows\n",
       "\n",
       "In the next notebook, we'll define more complex agent roles\n",
       "and orchestrate tasks using CrewAI or custom controllers"
      ]
     }
    ],
    "metadata": {},
    "nbformat": 4,
    "nbformat_minor": 5
   }