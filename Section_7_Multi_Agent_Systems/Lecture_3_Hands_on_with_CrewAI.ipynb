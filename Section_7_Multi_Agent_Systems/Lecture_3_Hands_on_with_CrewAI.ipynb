{
    "cells": [
     {
      "cell_type": "markdown",
      "id": "219ca831",
      "metadata": {},
      "source": [
       "# Lecture 3: Multi-Agent Collaboration with CrewAI\n",
       "Section 7 – Hands-on with CrewAI"
      ]
     },
     {
      "cell_type": "markdown",
      "id": "0cc00cfa",
      "metadata": {},
      "source": [
       "## 🧠 What You’ll Learn\n",
       "- What is CrewAI and how it compares to AutoGen\n",
       "- How to define roles and tasks for multiple agents\n",
       "- How to orchestrate agent collaboration using CrewAI"
      ]
     },
     {
      "cell_type": "markdown",
      "id": "760ec1d4",
      "metadata": {},
      "source": [
       "## ✅ Step 1: Install CrewAI using uv (recommended)\n",
       "Run this in your terminal (outside Jupyter):"
      ]
     },
     {
      "cell_type": "code",
      "execution_count": null,
      "id": "d023d54e",
      "metadata": {},
      "outputs": [],
      "source": [
       "# uv pip install crewai"
      ]
     },
     {
      "cell_type": "markdown",
      "id": "41d71a43",
      "metadata": {},
      "source": [
       "## ✅ Step 2: Import required packages"
      ]
     },
     {
      "cell_type": "code",
      "execution_count": null,
      "id": "abd7d814",
      "metadata": {},
      "outputs": [],
      "source": [
       "from crewai import Crew, Agent, Task\n",
       "import os\n",
       "from dotenv import load_dotenv"
      ]
     },
     {
      "cell_type": "markdown",
      "id": "6f33056a",
      "metadata": {},
      "source": [
       "## ✅ Step 3: Load your OpenAI API key"
      ]
     },
     {
      "cell_type": "code",
      "execution_count": null,
      "id": "1d933221",
      "metadata": {},
      "outputs": [],
      "source": [
       "load_dotenv()\n",
       "os.environ[\"OPENAI_API_KEY\"] = os.getenv(\"OPENAI_API_KEY\")"
      ]
     },
     {
      "cell_type": "markdown",
      "id": "b3f94f96",
      "metadata": {},
      "source": [
       "## ✅ Step 4: Define the Agents"
      ]
     },
     {
      "cell_type": "code",
      "execution_count": null,
      "id": "5f16555e",
      "metadata": {},
      "outputs": [],
      "source": [
       "researcher = Agent(\n",
       "    role=\"Researcher\",\n",
       "    goal=\"Gather relevant insights from trusted sources\",\n",
       "    backstory=\"You are an AI research assistant focused on accuracy and credibility.\"\n",
       ")\n",
       "\n",
       "analyst = Agent(\n",
       "    role=\"Analyst\",\n",
       "    goal=\"Analyze and interpret data to derive meaningful conclusions\",\n",
       "    backstory=\"You are an expert analyst who summarizes complex findings.\"\n",
       ")\n",
       "\n",
       "writer = Agent(\n",
       "    role=\"Writer\",\n",
       "    goal=\"Summarize insights into a clear and concise report\",\n",
       "    backstory=\"You are a skilled technical writer with attention to clarity and structure.\"\n",
       ")"
      ]
     },
     {
      "cell_type": "markdown",
      "id": "dbe6cf73",
      "metadata": {},
      "source": [
       "## ✅ Step 5: Define the Collaborative Task"
      ]
     },
     {
      "cell_type": "code",
      "execution_count": null,
      "id": "45d635c0",
      "metadata": {},
      "outputs": [],
      "source": [
       "project_task = Task(\n",
       "    description=\"Research the benefits of using multi-agent systems in AI workflows, analyze findings, and generate a short report.\"\n",
       ")"
      ]
     },
     {
      "cell_type": "markdown",
      "id": "62fea0ac",
      "metadata": {},
      "source": [
       "## ✅ Step 6: Create the Crew and Start Collaboration"
      ]
     },
     {
      "cell_type": "code",
      "execution_count": null,
      "id": "586bb9f9",
      "metadata": {},
      "outputs": [],
      "source": [
       "crew = Crew(\n",
       "    agents=[researcher, analyst, writer],\n",
       "    tasks=[project_task],\n",
       "    verbose=True\n",
       ")\n",
       "\n",
       "result = crew.kickoff()\n",
       "\n",
       "print(\"\\n\\n✅ Final Output:\\n\")\n",
       "print(result)"
      ]
     },
     {
      "cell_type": "markdown",
      "id": "dc103f9d",
      "metadata": {},
      "source": [
       "## ✅ Summary\n",
       "- You created a 3-agent Crew\n",
       "- Each agent had a specific role\n",
       "- The team collaborated to produce a final report\n",
       "\n",
       "Next, we’ll explore custom workflows and advanced coordination strategies."
      ]
     }
    ],
    "metadata": {},
    "nbformat": 4,
    "nbformat_minor": 5
   }