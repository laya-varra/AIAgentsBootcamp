{
 "cells": [
  {
   "cell_type": "markdown",
   "id": "f44f7a97",
   "metadata": {},
   "source": [
    "# Lecture 3 Submission and Review Guidelines"
   ]
  },
  {
   "cell_type": "markdown",
   "id": "b4f89c3e",
   "metadata": {},
   "source": [
    "## What is this about?\n",
    "(Explain the concept and its purpose)"
   ]
  },
  {
   "cell_type": "markdown",
   "id": "2351dc0e",
   "metadata": {},
   "source": [
    "## Why is it important?\n",
    "(Describe the relevance and real-world application)"
   ]
  },
  {
   "cell_type": "markdown",
   "id": "a165da37",
   "metadata": {},
   "source": [
    "## How to implement it?\n",
    "(Step-by-step instructions with code below)"
   ]
  },
  {
   "cell_type": "code",
   "execution_count": null,
   "id": "761cc9cb",
   "metadata": {},
   "outputs": [],
   "source": [
    "# Your code starts here\n"
   ]
  }
 ],
 "metadata": {},
 "nbformat": 4,
 "nbformat_minor": 5
}