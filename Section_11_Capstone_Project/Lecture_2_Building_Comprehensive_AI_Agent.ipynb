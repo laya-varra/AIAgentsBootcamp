{
 "cells": [
  {
   "cell_type": "markdown",
   "id": "cae3969d",
   "metadata": {},
   "source": [
    "# 🛠️ Lecture 2: Building the Comprehensive AI Agent"
   ]
  },
  {
   "cell_type": "markdown",
   "id": "c37f78af",
   "metadata": {},
   "source": [
    "\n",
    "In this notebook, we’ll walk step-by-step through building a startup-ready AI agent product using LangChain, GPT-4, RAG, and custom tools.\n",
    "\n",
    "We’ll build an **AI Research Assistant** that:\n",
    "- Accepts custom documents\n",
    "- Uses RAG to answer context-based questions\n",
    "- Summarizes content\n",
    "- Offers recommendations using GPT-4\n"
   ]
  },
  {
   "cell_type": "markdown",
   "id": "ce5b1f25",
   "metadata": {},
   "source": [
    "## 🔧 Step 1: Load Environment and Dependencies"
   ]
  },
  {
   "cell_type": "code",
   "execution_count": null,
   "id": "f44c9ea7",
   "metadata": {},
   "outputs": [],
   "source": [
    "from langchain.llms import OpenAI\n",
    "from langchain.embeddings import OpenAIEmbeddings\n",
    "from langchain.vectorstores import FAISS\n",
    "from langchain.chains import RetrievalQA\n",
    "from langchain.document_loaders import TextLoader\n",
    "from langchain.text_splitter import CharacterTextSplitter\n",
    "from dotenv import load_dotenv\n",
    "import os\n",
    "\n",
    "load_dotenv()\n",
    "OPENAI_API_KEY = os.getenv(\"OPENAI_API_KEY\")"
   ]
  },
  {
   "cell_type": "markdown",
   "id": "9c7baf40",
   "metadata": {},
   "source": [
    "## 📄 Step 2: Load and Split a Document"
   ]
  },
  {
   "cell_type": "code",
   "execution_count": null,
   "id": "b6c9fc0e",
   "metadata": {},
   "outputs": [],
   "source": [
    "loader = TextLoader(\"sample_research.txt\")  # replace with your file\n",
    "documents = loader.load()\n",
    "\n",
    "text_splitter = CharacterTextSplitter(chunk_size=500, chunk_overlap=50)\n",
    "docs = text_splitter.split_documents(documents)"
   ]
  },
  {
   "cell_type": "markdown",
   "id": "3afa787c",
   "metadata": {},
   "source": [
    "## 📚 Step 3: Create a Vector Store with Embeddings"
   ]
  },
  {
   "cell_type": "code",
   "execution_count": null,
   "id": "1323dcf7",
   "metadata": {},
   "outputs": [],
   "source": [
    "embeddings = OpenAIEmbeddings(openai_api_key=OPENAI_API_KEY)\n",
    "vectorstore = FAISS.from_documents(docs, embeddings)"
   ]
  },
  {
   "cell_type": "markdown",
   "id": "44a55ad8",
   "metadata": {},
   "source": [
    "## 🧠 Step 4: Build the Retrieval-Augmented QA Chain"
   ]
  },
  {
   "cell_type": "code",
   "execution_count": null,
   "id": "54596d36",
   "metadata": {},
   "outputs": [],
   "source": [
    "llm = OpenAI(api_key=OPENAI_API_KEY)\n",
    "\n",
    "qa_chain = RetrievalQA.from_chain_type(\n",
    "    llm=llm,\n",
    "    retriever=vectorstore.as_retriever(),\n",
    "    chain_type=\"stuff\"\n",
    ")"
   ]
  },
  {
   "cell_type": "markdown",
   "id": "e1bad454",
   "metadata": {},
   "source": [
    "## 🤖 Step 5: Ask Questions to Your Research Agent"
   ]
  },
  {
   "cell_type": "code",
   "execution_count": null,
   "id": "bdf6b3fa",
   "metadata": {},
   "outputs": [],
   "source": [
    "response = qa_chain.run(\"Summarize the main findings in this document.\")\n",
    "print(response)"
   ]
  },
  {
   "cell_type": "markdown",
   "id": "2241c004",
   "metadata": {},
   "source": [
    "## 💡 Step 6: Add a Recommendation Tool with Custom Logic"
   ]
  },
  {
   "cell_type": "code",
   "execution_count": null,
   "id": "a906491d",
   "metadata": {},
   "outputs": [],
   "source": [
    "from langchain.tools import tool\n",
    "\n",
    "@tool\n",
    "def suggest_next_steps(summary: str) -> str:\n",
    "    if \"AI adoption\" in summary:\n",
    "        return \"You should explore case studies of AI adoption in your industry.\"\n",
    "    return \"Consider researching more recent trends in the domain.\"\n",
    "\n",
    "# Use it manually after receiving summary:\n",
    "recommendation = suggest_next_steps(response)\n",
    "print(\"Recommendation:\", recommendation)"
   ]
  }
 ],
 "metadata": {},
 "nbformat": 4,
 "nbformat_minor": 5
}
