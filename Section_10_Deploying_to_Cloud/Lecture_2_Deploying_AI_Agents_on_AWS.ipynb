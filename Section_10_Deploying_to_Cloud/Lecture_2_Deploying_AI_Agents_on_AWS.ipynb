{
 "cells": [
  {
   "cell_type": "markdown",
   "id": "117c5ee2",
   "metadata": {},
   "source": [
    "# ☁️ Lecture 2: Deploying AI Agents on AWS"
   ]
  },
  {
   "cell_type": "markdown",
   "id": "57b3c75e",
   "metadata": {},
   "source": [
    "In this lecture, we'll walk through deploying a LangGraph-based AI Agent to AWS Lambda using a simple and reproducible process."
   ]
  },
  {
   "cell_type": "markdown",
   "id": "4ab825ca",
   "metadata": {},
   "source": [
    "## ✅ Step 1: Install and Configure AWS CLI"
   ]
  },
  {
   "cell_type": "code",
   "execution_count": null,
   "id": "4dbaa622",
   "metadata": {},
   "outputs": [],
   "source": [
    "# Uncomment below if not already installed\n",
    "# !pip install awscli\n",
    "\n",
    "# To configure:\n",
    "# !aws configure\n",
    "# You'll need AWS Access Key, Secret, region, and output format\n"
   ]
  },
  {
   "cell_type": "markdown",
   "id": "7fd4dcb5",
   "metadata": {},
   "source": [
    "## ✅ Step 2: Create a Lambda Handler File"
   ]
  },
  {
   "cell_type": "code",
   "execution_count": null,
   "id": "a2803348",
   "metadata": {},
   "outputs": [],
   "source": [
    "lambda_handler_code = \"\"\"import json\n",
    "from langgraph_agent.main import app\n",
    "\n",
    "def lambda_handler(event, context):\n",
    "    name = event.get(\"name\", \"Stranger\")\n",
    "    result = app.invoke({\"name\": name})\n",
    "    return {\n",
    "        \"statusCode\": 200,\n",
    "        \"body\": json.dumps(result)\n",
    "    }\n",
    "\"\"\"\n",
    "\n",
    "with open(\"deployment_demo/lambda_handler.py\", \"w\") as f:\n",
    "    f.write(lambda_handler_code)"
   ]
  },
  {
   "cell_type": "markdown",
   "id": "b4597f7e",
   "metadata": {},
   "source": [
    "## ✅ Step 3: Zip Your Deployment Package"
   ]
  },
  {
   "cell_type": "code",
   "execution_count": null,
   "id": "148bf197",
   "metadata": {},
   "outputs": [],
   "source": [
    "# Zip all required files\n",
    "!cd deployment_demo && zip -r function.zip langgraph_agent lambda_handler.py requirements.txt"
   ]
  },
  {
   "cell_type": "markdown",
   "id": "d03ce98d",
   "metadata": {},
   "source": [
    "## ✅ Step 4: Deploy to AWS Lambda"
   ]
  },
  {
   "cell_type": "code",
   "execution_count": null,
   "id": "8978135b",
   "metadata": {},
   "outputs": [],
   "source": [
    "# Note: This must be done in a real terminal with AWS credentials set up\n",
    "# Example AWS CLI Command\n",
    "# aws lambda create-function \\\n",
    "# --function-name langgraphAgentFunction \\\n",
    "# --runtime python3.11 \\\n",
    "# --role arn:aws:iam::<your-account-id>:role/<your-lambda-role> \\\n",
    "# --handler lambda_handler.lambda_handler \\\n",
    "# --zip-file fileb://deployment_demo/function.zip \\\n",
    "# --timeout 30"
   ]
  }
 ],
 "metadata": {},
 "nbformat": 4,
 "nbformat_minor": 5
}
