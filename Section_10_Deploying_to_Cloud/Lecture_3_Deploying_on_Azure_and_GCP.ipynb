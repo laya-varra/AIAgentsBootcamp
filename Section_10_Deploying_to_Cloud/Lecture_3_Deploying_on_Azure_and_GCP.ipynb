{
 "cells": [
  {
   "cell_type": "markdown",
   "id": "1c43363e",
   "metadata": {},
   "source": [
    "# ☁️ Lecture 3: Deploying AI Agents on Azure and GCP"
   ]
  },
  {
   "cell_type": "markdown",
   "id": "9cb0ec0b",
   "metadata": {},
   "source": [
    "In this lecture, we’ll walk through how to deploy LangGraph agents to **Azure Functions** and **Google Cloud Functions**, offering flexibility for whichever cloud platform you prefer."
   ]
  },
  {
   "cell_type": "markdown",
   "id": "3e037075",
   "metadata": {},
   "source": [
    "## ✅ Step 1: Install and Login to Azure CLI"
   ]
  },
  {
   "cell_type": "code",
   "execution_count": null,
   "id": "35dd4758",
   "metadata": {},
   "outputs": [],
   "source": [
    "# Install Azure CLI and login\n",
    "# !curl -sL https://aka.ms/InstallAzureCLIDeb | sudo bash\n",
    "# !az login"
   ]
  },
  {
   "cell_type": "markdown",
   "id": "6a1385f0",
   "metadata": {},
   "source": [
    "## ✅ Step 2: Prepare your Azure Function"
   ]
  },
  {
   "cell_type": "code",
   "execution_count": null,
   "id": "697f95d3",
   "metadata": {},
   "outputs": [],
   "source": [
    "# Azure expects a specific function structure\n",
    "# We’ll mimic it inside `deployment_demo_azure`\n",
    "\n",
    "!mkdir -p deployment_demo_azure/langgraph_agent\n",
    "!mkdir -p deployment_demo_azure/AzureLanggraphAgent\n",
    "\n",
    "# Handler: __init__.py for Azure\n",
    "handler_code = \"\"\"import azure.functions as func\n",
    "import json\n",
    "from langgraph_agent.main import app\n",
    "\n",
    "def main(req: func.HttpRequest) -> func.HttpResponse:\n",
    "    name = req.params.get(\"name\")\n",
    "    if not name:\n",
    "        try:\n",
    "            req_body = req.get_json()\n",
    "        except ValueError:\n",
    "            pass\n",
    "        else:\n",
    "            name = req_body.get(\"name\")\n",
    "\n",
    "    result = app.invoke({\"name\": name or \"Stranger\"})\n",
    "    return func.HttpResponse(json.dumps(result), mimetype=\"application/json\")\n",
    "\"\"\"\n",
    "\n",
    "with open(\"deployment_demo_azure/AzureLanggraphAgent/__init__.py\", \"w\") as f:\n",
    "    f.write(handler_code)"
   ]
  },
  {
   "cell_type": "markdown",
   "id": "cb7515bd",
   "metadata": {},
   "source": [
    "## ✅ Step 3: Create Google Cloud Function"
   ]
  },
  {
   "cell_type": "code",
   "execution_count": null,
   "id": "399c9506",
   "metadata": {},
   "outputs": [],
   "source": [
    "# Create GCP cloud function handler\n",
    "!mkdir -p deployment_demo_gcp\n",
    "gcp_handler = \"\"\"def hello_world(request):\n",
    "    from langgraph_agent.main import app\n",
    "    request_json = request.get_json(silent=True)\n",
    "    name = request_json.get(\"name\", \"Stranger\")\n",
    "    return app.invoke({\"name\": name})\n",
    "\"\"\"\n",
    "\n",
    "with open(\"deployment_demo_gcp/main.py\", \"w\") as f:\n",
    "    f.write(gcp_handler)"
   ]
  }
 ],
 "metadata": {},
 "nbformat": 4,
 "nbformat_minor": 5
}
